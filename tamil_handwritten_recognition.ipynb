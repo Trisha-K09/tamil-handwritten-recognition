{
  "cells": [
    {
      "cell_type": "markdown",
      "metadata": {
        "id": "view-in-github",
        "colab_type": "text"
      },
      "source": [
        "<a href=\"https://colab.research.google.com/github/Trisha-K09/tamil-handwritten-recognition/blob/main/tamil_handwritten_recognition.ipynb\" target=\"_parent\"><img src=\"https://colab.research.google.com/assets/colab-badge.svg\" alt=\"Open In Colab\"/></a>"
      ]
    },
    {
      "cell_type": "code",
      "execution_count": null,
      "metadata": {
        "colab": {
          "base_uri": "https://localhost:8080/"
        },
        "id": "UdUKJmAyoCmN",
        "outputId": "94bf6cef-b949-4834-cb6c-da6c4a115fa4"
      },
      "outputs": [
        {
          "output_type": "stream",
          "name": "stdout",
          "text": [
            "Mounted at /content/drive\n"
          ]
        }
      ],
      "source": [
        "# Step 1: Mount Google Drive\n",
        "from google.colab import drive\n",
        "drive.mount('/content/drive')\n"
      ]
    },
    {
      "cell_type": "code",
      "execution_count": null,
      "metadata": {
        "id": "pu50rnXCpLW7"
      },
      "outputs": [],
      "source": [
        "# Step 2: Import necessary libraries\n",
        "import os\n",
        "import shutil\n",
        "import cv2\n",
        "import numpy as np\n",
        "from matplotlib import pyplot as plt\n",
        "import matplotlib.font_manager as fm\n",
        "from tensorflow.keras.models import Sequential\n",
        "from tensorflow.keras.layers import Conv2D, MaxPooling2D, Flatten, GRU, LSTM, Dense, Dropout\n",
        "from tensorflow.keras.preprocessing.image import ImageDataGenerator\n",
        "from tensorflow.keras.callbacks import EarlyStopping, ReduceLROnPlateau\n",
        "from sklearn.preprocessing import LabelEncoder\n",
        "from sklearn.model_selection import train_test_split\n",
        "from PIL import Image\n",
        "\n"
      ]
    },
    {
      "cell_type": "code",
      "execution_count": null,
      "metadata": {
        "colab": {
          "base_uri": "https://localhost:8080/"
        },
        "id": "li6e1Yj2xTwg",
        "outputId": "70828bb4-ca1e-4fa3-d4ff-dc05dd39e0a7"
      },
      "outputs": [
        {
          "output_type": "stream",
          "name": "stdout",
          "text": [
            "Downloading Latha Tamil font...\n",
            "⚠️ Font setup warning: name 'requests' is not defined\n",
            "Using default font - Tamil characters may not render properly\n"
          ]
        }
      ],
      "source": [
        "# Step 3: Robust Tamil Font Setup\n",
        "def setup_tamil_font():\n",
        "    \"\"\"Download and configure Tamil font for matplotlib rendering\"\"\"\n",
        "    try:\n",
        "        font_url = \"https://github.com/google/fonts/raw/main/ofl/latha/Latha.ttf\"  # Official Google Fonts mirror\n",
        "        font_path = \"/content/Latha.ttf\"\n",
        "\n",
        "        # Download font if not present\n",
        "        if not os.path.exists(font_path):\n",
        "            print(\"Downloading Latha Tamil font...\")\n",
        "            response = requests.get(font_url, timeout=10)\n",
        "            response.raise_for_status()  # Check for download errors\n",
        "            with open(font_path, \"wb\") as f:\n",
        "                f.write(response.content)\n",
        "\n",
        "        # Register font with matplotlib\n",
        "        font_prop = fm.FontProperties(fname=font_path)\n",
        "        fm.fontManager.addfont(font_path)\n",
        "        plt.rcParams['font.family'] = 'Latha'\n",
        "        print(\"✅ Tamil font configured successfully\")\n",
        "        return font_path\n",
        "\n",
        "    except Exception as e:\n",
        "        print(f\"⚠️ Font setup warning: {str(e)}\")\n",
        "        print(\"Using default font - Tamil characters may not render properly\")\n",
        "        return None\n",
        "\n",
        "# Usage (call this before any plotting)\n",
        "font_path = setup_tamil_font()\n"
      ]
    },
    {
      "cell_type": "code",
      "execution_count": null,
      "metadata": {
        "id": "TDfXO5NfpbOV"
      },
      "outputs": [],
      "source": [
        "# Step 4: Define dataset paths\n",
        "dataset_path = \"/content/drive/My Drive/Tamil_dataset\"\n",
        "converted_dataset_path = \"/content/drive/My Drive/Tamil_dataset_converted\"\n",
        "labeled_dataset_path = \"/content/drive/My Drive/Tamil_dataset_labeled\"\n",
        "preprocessed_dataset_path = \"/content/drive/My Drive/Tamil_dataset_preprocessed\"\n",
        "\n",
        "# Step 5: Tamil Uyir Ezhuthukkal and Ayyutha Ezhuthu mapped to phonetics and characters\n",
        "\n",
        "tamil_to_phonetic = {\n",
        "    # Vowels (1-13)\n",
        "    \"1\": \"a\", \"2\": \"aa\", \"3\": \"i\", \"4\": \"ii\",\n",
        "    \"5\": \"u\", \"6\": \"uu\", \"7\": \"e\", \"8\": \"ee\",\n",
        "    \"9\": \"ai\", \"10\": \"o\", \"11\": \"oo\", \"12\": \"au\", \"13\": \"ah\",\n",
        "\n",
        "    # Consonants + Pulli (14-31)\n",
        "    \"14\": \"k\", \"15\": \"ng\", \"16\": \"ch\", \"17\": \"nj\",\n",
        "    \"18\": \"t\", \"19\": \"n\", \"20\": \"th\", \"21\": \"nd\",\n",
        "    \"22\": \"p\", \"23\": \"m\", \"24\": \"y\", \"25\": \"r\",\n",
        "    \"26\": \"l\", \"27\": \"v\", \"28\": \"zh\", \"29\": \"L\",\n",
        "    \"30\": \"R\", \"31\": \"n\",\n",
        "\n",
        "    # Consonants + Inherent 'a' (32-49)\n",
        "    \"32\": \"ka\", \"33\": \"nga\", \"34\": \"cha\", \"35\": \"nja\",\n",
        "    \"36\": \"ta\", \"37\": \"na\", \"38\": \"tha\", \"39\": \"nda\",\n",
        "    \"40\": \"pa\", \"41\": \"ma\", \"42\": \"ya\", \"43\": \"ra\",\n",
        "    \"44\": \"la\", \"45\": \"va\", \"46\": \"zha\", \"47\": \"La\",\n",
        "    \"48\": \"Ra\", \"49\": \"na\",\n",
        "\n",
        "    # Uyirmei (50-67)\n",
        "    \"50\": \"ki\", \"51\": \"ngi\", \"52\": \"chi\", \"53\": \"nji\",\n",
        "    \"54\": \"ti\", \"55\": \"ni\", \"56\": \"thi\", \"57\": \"ni\",\n",
        "    \"58\": \"pi\", \"59\": \"mi\", \"60\": \"yi\", \"61\": \"ri\",\n",
        "    \"62\": \"li\", \"63\": \"vi\", \"64\": \"zhi\", \"65\": \"Li\",\n",
        "    \"66\": \"Ri\", \"67\": \"ni\",\n",
        "\n",
        "\n",
        "    # Uyirmei (69-86)\n",
        "     \"68\": \"kii\", \"69\": \"ngii\", \"70\": \"chii\", \"71\": \"njii\",\n",
        "     \"72\": \"tii\", \"73\": \"nii\", \"74\": \"thii\", \"75\": \"nii\",\n",
        "     \"76\": \"pii\", \"77\": \"mii\", \"78\": \"yii\", \"79\": \"rii\",\n",
        "     \"80\": \"lii\", \"81\": \"vii\", \"82\": \"zhii\", \"83\": \"lii\",\n",
        "     \"84\": \"rii\", \"85\": \"nii\",\n",
        "\n",
        "    # Uyirmei (86-103)\n",
        "    \"86\": \"ku\", \"87\": \"ngu\", \"88\": \"chu\", \"89\": \"nju\",\n",
        "    \"90\": \"tu\", \"91\": \"nu\", \"92\": \"thu\", \"93\": \"ndu\",\n",
        "    \"94\": \"pu\", \"95\": \"mu\", \"96\": \"yu\", \"97\": \"ru\",\n",
        "    \"98\": \"lu\", \"99\": \"vu\", \"100\": \"zhu\", \"101\": \"Lu\",\n",
        "    \"102\": \"Ru\", \"103\": \"nu\",\n",
        "\n",
        "    # Uyirmei (104-121)\n",
        "    \"104\": \"kuu\", \"105\": \"nguu\", \"106\": \"chuu\", \"107\": \"njuu\",\n",
        "    \"108\": \"tuu\", \"109\": \"nuu\", \"110\": \"thuu\", \"111\": \"nduu\",\n",
        "    \"112\": \"puu\", \"113\": \"muu\", \"114\": \"yuu\", \"115\": \"ruu\",\n",
        "    \"116\": \"luu\", \"117\": \"vuu\", \"118\": \"zhuu\", \"119\": \"Luu\",\n",
        "    \"120\": \"Ruu\", \"121\": \"nuu\",\n",
        "\n",
        "     \"122\": \"aa_sign\", \"123\": \"e_sign\", \"124\": \"ee_sign\", \"125\": \"ai_sign\"\n",
        "\n",
        "\n",
        "}\n",
        "\n",
        "\n",
        "\n",
        "tamil_unicode = {\n",
        "    # Vowels (1-13)\n",
        "     \"1\": \"அ\", \"2\": \"ஆ\", \"3\": \"இ\", \"4\": \"ஈ\",\n",
        "     \"5\": \"உ\", \"6\": \"ஊ\", \"7\": \"எ\", \"8\": \"ஏ\",\n",
        "     \"9\": \"ஐ\", \"10\": \"ஒ\", \"11\": \"ஓ\", \"12\": \"ஔ\", \"13\": \"ஃ\",\n",
        "\n",
        "    # Consonants + Pulli (14-31)\n",
        "    \"14\": \"க்\", \"15\": \"ங்\", \"16\": \"ச்\", \"17\": \"ஞ்\",\n",
        "    \"18\": \"ட்\", \"19\": \"ண்\", \"20\": \"த்\", \"21\": \"ந்\",\n",
        "    \"22\": \"ப்\", \"23\": \"ம்\", \"24\": \"ய்\", \"25\": \"ர்\",\n",
        "    \"26\": \"ல்\", \"27\": \"வ்\", \"28\": \"ழ்\", \"29\": \"ள்\",\n",
        "    \"30\": \"ற்\", \"31\": \"ன்\",\n",
        "\n",
        "    # Consonants + Inherent 'a' (32-49)\n",
        "    \"32\": \"க\", \"33\": \"ங\", \"34\": \"ச\", \"35\": \"ஞ\",\n",
        "    \"36\": \"ட\", \"37\": \"ண\", \"38\": \"த\", \"39\": \"ந\",\n",
        "    \"40\": \"ப\", \"41\": \"ம\", \"42\": \"ய\", \"43\": \"ர\",\n",
        "    \"44\": \"ல\", \"45\": \"வ\", \"46\": \"ழ\", \"47\": \"ள\",\n",
        "    \"48\": \"ற\", \"49\": \"ன\",\n",
        "\n",
        "    # Uyirmei (50-67)\n",
        "    \"50\": \"கி\", \"51\": \"ஙி\", \"52\": \"சி\", \"53\": \"ஞி\",\n",
        "    \"54\": \"டி\", \"55\": \"ணி\", \"56\": \"தி\", \"57\": \"நி\",\n",
        "    \"58\": \"பி\", \"59\": \"மி\", \"60\": \"யி\", \"61\": \"ரி\",\n",
        "    \"62\": \"லி\", \"63\": \"வி\", \"64\": \"ழி\", \"65\": \"ளி\",\n",
        "    \"66\": \"றி\", \"67\": \"னி\",\n",
        "\n",
        "    # Uyirmei (69-86)\n",
        "    \"68\": \"கீ\", \"69\": \"ஙீ\", \"70\": \"சீ\", \"71\": \"ஞீ\",\n",
        "    \"72\": \"டீ\", \"73\": \"ணீ\", \"74\": \"தீ\", \"75\": \"நீ\",\n",
        "    \"76\": \"பீ\", \"77\": \"மீ\", \"78\": \"யீ\", \"79\": \"ரீ\",\n",
        "    \"80\": \"லீ\", \"81\": \"வீ\", \"82\": \"ழீ\", \"83\": \"ளீ\",\n",
        "    \"84\": \"றீ\", \"85\": \"னீ\",\n",
        "\n",
        "    #Uyirmei (86-103)\n",
        "    \"86\": \"கு\",\"87\":\"ஙு\",\"88\":\"சு\",\"89\": \"ஞு\",\n",
        "    \"90\": \"டு\", \"91\": \"ணு\",\"92\": \"து\", \"93\": \"நு\",\n",
        "    \"94\": \"பு\",\"95\": \"மு\",\"96\": \"யு\",\"97\": \"ரு\",\n",
        "    \"98\": \"லு\",\"99\": \"வு\", \"100\": \"ழு\",\"101\": \"ளு\",\n",
        "    \"102\": \"று\",\"103\": \"னு\",\n",
        "\n",
        "\n",
        "    #Uyirmei (104-121)\n",
        "    \"104\": \"கூ\", \"105\": \"ஙூ\", \"106\": \"சூ\", \"107\": \"ஞூ\",\n",
        "    \"108\": \"டூ\", \"109\": \"ணூ\", \"110\": \"தூ\", \"111\": \"நூ\",\n",
        "    \"112\": \"பூ\", \"113\": \"மூ\", \"114\": \"யூ\", \"115\": \"ரூ\",\n",
        "    \"116\": \"லூ\", \"117\": \"வூ\", \"118\": \"ழூ\", \"119\": \"ளூ\",\n",
        "    \"120\": \"றூ\", \"121\": \"னூ\",\n",
        "\n",
        "    #vowels\n",
        "     \"122\": \"ா\", \"123\": \"ெ\", \"124\": \"ே\", \"125\": \"ை\"\n",
        "\n",
        "\n",
        "}\n",
        "\n",
        "\n"
      ]
    },
    {
      "cell_type": "code",
      "execution_count": null,
      "metadata": {
        "colab": {
          "base_uri": "https://localhost:8080/"
        },
        "id": "otXIvnISsq2w",
        "outputId": "d44f6128-d814-42af-e505-ab8709b93e90"
      },
      "outputs": [
        {
          "output_type": "stream",
          "name": "stdout",
          "text": [
            "Folders in dataset: ['1', '10', '100', '101', '102', '103', '104', '105', '106', '107', '108', '109', '11', '110', '111', '112', '113', '114', '115', '116', '117', '118', '119', '12', '120', '121', '122', '123', '124', '125', '13', '14', '15', '16', '17', '18', '19', '2', '20', '21', '22', '23', '24', '25', '26', '27', '28', '29', '3', '30', '31', '32', '33', '34', '35', '36', '37', '38', '39', '4', '40', '41', '42', '43', '44', '45', '46', '47', '48', '49', '5', '50', '51', '52', '53', '54', '55', '56', '57', '58', '59', '6', '60', '61', '62', '63', '64', '65', '66', '67', '68', '69', '7', '70', '71', '72', '73', '74', '75', '76', '77', '78', '79', '8', '80', '81', '82', '83', '84', '85', '86', '87', '88', '89', '9', '90', '91', '92', '93', '94', '95', '96', '97', '98', '99']\n",
            "BMP to PNG conversion completed!\n"
          ]
        }
      ],
      "source": [
        "# Step 6: Convert BMP to PNG\n",
        "if not os.path.exists(dataset_path):\n",
        "    print(f\"Dataset path not found: {dataset_path}. Please upload your dataset.\")\n",
        "else:\n",
        "    os.makedirs(converted_dataset_path, exist_ok=True)\n",
        "    folders = sorted(os.listdir(dataset_path))\n",
        "    print(\"Folders in dataset:\", folders)\n",
        "    for folder in folders:\n",
        "        folder_path = os.path.join(dataset_path, folder)\n",
        "        converted_folder_path = os.path.join(converted_dataset_path, folder)\n",
        "        os.makedirs(converted_folder_path, exist_ok=True)\n",
        "        for img_file in os.listdir(folder_path):\n",
        "            if img_file.lower().endswith('.bmp'):\n",
        "                bmp_path = os.path.join(folder_path, img_file)\n",
        "                png_file = img_file.replace('.bmp', '.png')\n",
        "                png_path = os.path.join(converted_folder_path, png_file)\n",
        "                try:\n",
        "                    img = Image.open(bmp_path)\n",
        "                    img.save(png_path, 'PNG')\n",
        "                except Exception as e:\n",
        "                    print(f\"Error converting {bmp_path}: {e}\")\n",
        "            else:\n",
        "                shutil.copy(os.path.join(folder_path, img_file), os.path.join(converted_folder_path, img_file))\n",
        "    print(\"BMP to PNG conversion completed!\")\n"
      ]
    },
    {
      "cell_type": "code",
      "execution_count": null,
      "metadata": {
        "colab": {
          "base_uri": "https://localhost:8080/"
        },
        "id": "3rQ333odw6_P",
        "outputId": "fda3a891-eb43-49b0-d03d-4c4986200e37"
      },
      "outputs": [
        {
          "output_type": "stream",
          "name": "stdout",
          "text": [
            "Folders in converted dataset: ['1', '10', '100', '101', '102', '103', '104', '105', '106', '107', '108', '109', '11', '110', '111', '112', '113', '114', '115', '116', '117', '118', '119', '12', '120', '121', '122', '123', '124', '125', '13', '14', '15', '16', '17', '18', '19', '2', '20', '21', '22', '23', '24', '25', '26', '27', '28', '29', '3', '30', '31', '32', '33', '34', '35', '36', '37', '38', '39', '4', '40', '41', '42', '43', '44', '45', '46', '47', '48', '49', '5', '50', '51', '52', '53', '54', '55', '56', '57', '58', '59', '6', '60', '61', '62', '63', '64', '65', '66', '67', '68', '69', '7', '70', '71', '72', '73', '74', '75', '76', '77', '78', '79', '8', '80', '81', '82', '83', '84', '85', '86', '87', '88', '89', '9', '90', '91', '92', '93', '94', '95', '96', '97', '98', '99']\n",
            "Renaming and labeling completed!\n"
          ]
        }
      ],
      "source": [
        "# Step 7: Verify and Label Dataset\n",
        "if not os.path.exists(converted_dataset_path):\n",
        "    print(f\"Converted dataset path not found: {converted_dataset_path}.\")\n",
        "else:\n",
        "    folders = sorted(os.listdir(converted_dataset_path))\n",
        "    print(\"Folders in converted dataset:\", folders)\n",
        "    os.makedirs(labeled_dataset_path, exist_ok=True)\n",
        "    for folder in folders:\n",
        "        folder_path = os.path.join(converted_dataset_path, folder)\n",
        "        new_folder_name = tamil_to_phonetic.get(folder, folder)\n",
        "        new_folder_path = os.path.join(labeled_dataset_path, new_folder_name)\n",
        "        os.makedirs(new_folder_path, exist_ok=True)\n",
        "        for img_file in os.listdir(folder_path):\n",
        "            old_img_path = os.path.join(folder_path, img_file)\n",
        "            new_img_name = f\"{new_folder_name}_{img_file}\"\n",
        "            new_img_path = os.path.join(new_folder_path, new_img_name)\n",
        "            shutil.copy(old_img_path, new_img_path)\n",
        "    print(\"Renaming and labeling completed!\")\n"
      ]
    },
    {
      "cell_type": "code",
      "execution_count": null,
      "metadata": {
        "colab": {
          "base_uri": "https://localhost:8080/"
        },
        "id": "GTPfLBa1xVDJ",
        "outputId": "d720c7ac-1b2a-4d42-c07d-4759b44a5978"
      },
      "outputs": [
        {
          "output_type": "stream",
          "name": "stdout",
          "text": [
            "Class distribution:\n",
            "L: 80 samples\n",
            "La: 82 samples\n",
            "Li: 81 samples\n",
            "Lu: 81 samples\n",
            "Luu: 80 samples\n",
            "R: 81 samples\n",
            "Ra: 80 samples\n",
            "Ri: 84 samples\n",
            "Ru: 81 samples\n",
            "Ruu: 81 samples\n",
            "a: 10 samples\n",
            "aa: 12 samples\n",
            "aa_sign: 81 samples\n",
            "ah: 80 samples\n",
            "ai: 80 samples\n",
            "ai_sign: 81 samples\n",
            "au: 80 samples\n",
            "ch: 80 samples\n",
            "cha: 80 samples\n",
            "chi: 80 samples\n",
            "chii: 80 samples\n",
            "chu: 80 samples\n",
            "chuu: 80 samples\n",
            "e: 80 samples\n",
            "e_sign: 81 samples\n",
            "ee: 80 samples\n",
            "ee_sign: 81 samples\n",
            "i: 80 samples\n",
            "ii: 80 samples\n",
            "k: 80 samples\n",
            "ka: 80 samples\n",
            "ki: 80 samples\n",
            "kii: 80 samples\n",
            "ku: 80 samples\n",
            "kuu: 80 samples\n",
            "l: 81 samples\n",
            "la: 81 samples\n",
            "li: 81 samples\n",
            "lii: 177 samples\n",
            "lu: 81 samples\n",
            "luu: 81 samples\n",
            "m: 80 samples\n",
            "ma: 80 samples\n",
            "mi: 80 samples\n",
            "mii: 80 samples\n",
            "mu: 80 samples\n",
            "muu: 80 samples\n",
            "n: 161 samples\n",
            "na: 160 samples\n",
            "nd: 80 samples\n",
            "nda: 80 samples\n",
            "ndu: 80 samples\n",
            "nduu: 80 samples\n",
            "ng: 80 samples\n",
            "nga: 80 samples\n",
            "ngi: 80 samples\n",
            "ngii: 80 samples\n",
            "ngu: 80 samples\n",
            "nguu: 80 samples\n",
            "ni: 241 samples\n",
            "nii: 241 samples\n",
            "nj: 80 samples\n",
            "nja: 80 samples\n",
            "nji: 81 samples\n",
            "njii: 80 samples\n",
            "nju: 80 samples\n",
            "njuu: 80 samples\n",
            "nu: 161 samples\n",
            "nuu: 160 samples\n",
            "o: 80 samples\n",
            "oo: 80 samples\n",
            "p: 80 samples\n",
            "pa: 90 samples\n",
            "pi: 80 samples\n",
            "pii: 80 samples\n",
            "pu: 80 samples\n",
            "puu: 80 samples\n",
            "r: 113 samples\n",
            "ra: 80 samples\n",
            "ri: 81 samples\n",
            "rii: 162 samples\n",
            "ru: 81 samples\n",
            "ruu: 80 samples\n",
            "t: 80 samples\n",
            "ta: 80 samples\n",
            "th: 80 samples\n",
            "tha: 92 samples\n",
            "thi: 80 samples\n",
            "thii: 80 samples\n",
            "thu: 80 samples\n",
            "thuu: 80 samples\n",
            "ti: 80 samples\n",
            "tii: 80 samples\n",
            "tu: 80 samples\n",
            "tuu: 80 samples\n",
            "u: 80 samples\n",
            "uu: 80 samples\n",
            "v: 83 samples\n",
            "va: 81 samples\n",
            "vi: 81 samples\n",
            "vii: 81 samples\n",
            "vu: 81 samples\n",
            "vuu: 80 samples\n",
            "y: 80 samples\n",
            "ya: 80 samples\n",
            "yi: 80 samples\n",
            "yii: 80 samples\n",
            "yu: 80 samples\n",
            "yuu: 80 samples\n",
            "zh: 81 samples\n",
            "zha: 100 samples\n",
            "zhi: 81 samples\n",
            "zhii: 81 samples\n",
            "zhu: 81 samples\n",
            "zhuu: 81 samples\n",
            "Data preprocessing completed!\n",
            "Preprocessed images shape: (9995, 128, 128)\n",
            "Labels shape: (9995,)\n"
          ]
        }
      ],
      "source": [
        "# Step 8: Preprocess Images with Median Filtering\n",
        "IMG_SIZE = (128, 128)  # Image size\n",
        "os.makedirs(preprocessed_dataset_path, exist_ok=True)\n",
        "\n",
        "def preprocess_image(image_path, target_size):\n",
        "    image = cv2.imread(image_path, cv2.IMREAD_GRAYSCALE)\n",
        "    if image is None:\n",
        "        return None\n",
        "    # Apply median filtering to remove salt-and-pepper noise\n",
        "    image = cv2.medianBlur(image, ksize=5)  # Kernel size 5x5 as per PDF\n",
        "    image = cv2.resize(image, target_size)\n",
        "    image = image / 255.0  # Normalize to [0, 1]\n",
        "    return image\n",
        "\n",
        "preprocessed_images = []\n",
        "labels = []\n",
        "for label in os.listdir(labeled_dataset_path):\n",
        "    label_path = os.path.join(labeled_dataset_path, label)\n",
        "    preprocessed_label_path = os.path.join(preprocessed_dataset_path, label)\n",
        "    os.makedirs(preprocessed_label_path, exist_ok=True)\n",
        "    for img_file in os.listdir(label_path):\n",
        "        img_path = os.path.join(label_path, img_file)\n",
        "        preprocessed_img = preprocess_image(img_path, IMG_SIZE)\n",
        "        if preprocessed_img is not None:\n",
        "            preprocessed_images.append(preprocessed_img)\n",
        "            labels.append(label)\n",
        "            preprocessed_img_path = os.path.join(preprocessed_label_path, img_file)\n",
        "            cv2.imwrite(preprocessed_img_path, preprocessed_img * 255)\n",
        "preprocessed_images = np.array(preprocessed_images)\n",
        "labels = np.array(labels)\n",
        "\n",
        "# Check class distribution\n",
        "unique_labels, counts = np.unique(labels, return_counts=True)\n",
        "print(\"Class distribution:\")\n",
        "for label, count in zip(unique_labels, counts):\n",
        "    print(f\"{label}: {count} samples\")\n",
        "\n",
        "np.save(os.path.join(preprocessed_dataset_path, \"preprocessed_images.npy\"), preprocessed_images)\n",
        "np.save(os.path.join(preprocessed_dataset_path, \"labels.npy\"), labels)\n",
        "print(\"Data preprocessing completed!\")\n",
        "print(f\"Preprocessed images shape: {preprocessed_images.shape}\")\n",
        "print(f\"Labels shape: {labels.shape}\")\n"
      ]
    },
    {
      "cell_type": "code",
      "execution_count": null,
      "metadata": {
        "id": "cYHv-J08xr5B"
      },
      "outputs": [],
      "source": [
        "# Step 9: Encode Labels and Split Data\n",
        "label_encoder = LabelEncoder()\n",
        "y_encoded = label_encoder.fit_transform(labels)\n",
        "X_train, X_temp, y_train, y_temp = train_test_split(preprocessed_images, y_encoded, test_size=0.3, random_state=42)\n",
        "X_val, X_test, y_val, y_test = train_test_split(X_temp, y_temp, test_size=0.5, random_state=42)\n",
        "X_train = X_train.reshape(-1, IMG_SIZE[0], IMG_SIZE[1], 1)\n",
        "X_val = X_val.reshape(-1, IMG_SIZE[0], IMG_SIZE[1], 1)\n",
        "X_test = X_test.reshape(-1, IMG_SIZE[0], IMG_SIZE[1], 1)\n"
      ]
    },
    {
      "cell_type": "code",
      "execution_count": null,
      "metadata": {
        "id": "V2YBM4c4xwim"
      },
      "outputs": [],
      "source": [
        "# Step 10: Define Data Augmentation\n",
        "datagen = ImageDataGenerator(\n",
        "    rotation_range=15,\n",
        "    width_shift_range=0.15,\n",
        "    height_shift_range=0.15,\n",
        "    shear_range=0.15,\n",
        "    zoom_range=0.15,\n",
        "    fill_mode='nearest'\n",
        ")\n",
        "datagen.fit(X_train)\n"
      ]
    },
    {
      "cell_type": "code",
      "execution_count": null,
      "metadata": {
        "colab": {
          "base_uri": "https://localhost:8080/",
          "height": 599
        },
        "id": "jZS0CR0qx4KY",
        "outputId": "492d0be5-1c5c-47bf-a7a2-dc8b4d1012ae"
      },
      "outputs": [
        {
          "output_type": "stream",
          "name": "stderr",
          "text": [
            "/usr/local/lib/python3.11/dist-packages/keras/src/layers/convolutional/base_conv.py:107: UserWarning: Do not pass an `input_shape`/`input_dim` argument to a layer. When using Sequential models, prefer using an `Input(shape)` object as the first layer in the model instead.\n",
            "  super().__init__(activity_regularizer=activity_regularizer, **kwargs)\n"
          ]
        },
        {
          "output_type": "display_data",
          "data": {
            "text/plain": [
              "\u001b[1mModel: \"sequential\"\u001b[0m\n"
            ],
            "text/html": [
              "<pre style=\"white-space:pre;overflow-x:auto;line-height:normal;font-family:Menlo,'DejaVu Sans Mono',consolas,'Courier New',monospace\"><span style=\"font-weight: bold\">Model: \"sequential\"</span>\n",
              "</pre>\n"
            ]
          },
          "metadata": {}
        },
        {
          "output_type": "display_data",
          "data": {
            "text/plain": [
              "┏━━━━━━━━━━━━━━━━━━━━━━━━━━━━━━━━━┳━━━━━━━━━━━━━━━━━━━━━━━━┳━━━━━━━━━━━━━━━┓\n",
              "┃\u001b[1m \u001b[0m\u001b[1mLayer (type)                   \u001b[0m\u001b[1m \u001b[0m┃\u001b[1m \u001b[0m\u001b[1mOutput Shape          \u001b[0m\u001b[1m \u001b[0m┃\u001b[1m \u001b[0m\u001b[1m      Param #\u001b[0m\u001b[1m \u001b[0m┃\n",
              "┡━━━━━━━━━━━━━━━━━━━━━━━━━━━━━━━━━╇━━━━━━━━━━━━━━━━━━━━━━━━╇━━━━━━━━━━━━━━━┩\n",
              "│ conv2d (\u001b[38;5;33mConv2D\u001b[0m)                 │ (\u001b[38;5;45mNone\u001b[0m, \u001b[38;5;34m126\u001b[0m, \u001b[38;5;34m126\u001b[0m, \u001b[38;5;34m32\u001b[0m)   │           \u001b[38;5;34m320\u001b[0m │\n",
              "├─────────────────────────────────┼────────────────────────┼───────────────┤\n",
              "│ max_pooling2d (\u001b[38;5;33mMaxPooling2D\u001b[0m)    │ (\u001b[38;5;45mNone\u001b[0m, \u001b[38;5;34m63\u001b[0m, \u001b[38;5;34m63\u001b[0m, \u001b[38;5;34m32\u001b[0m)     │             \u001b[38;5;34m0\u001b[0m │\n",
              "├─────────────────────────────────┼────────────────────────┼───────────────┤\n",
              "│ conv2d_1 (\u001b[38;5;33mConv2D\u001b[0m)               │ (\u001b[38;5;45mNone\u001b[0m, \u001b[38;5;34m61\u001b[0m, \u001b[38;5;34m61\u001b[0m, \u001b[38;5;34m64\u001b[0m)     │        \u001b[38;5;34m18,496\u001b[0m │\n",
              "├─────────────────────────────────┼────────────────────────┼───────────────┤\n",
              "│ max_pooling2d_1 (\u001b[38;5;33mMaxPooling2D\u001b[0m)  │ (\u001b[38;5;45mNone\u001b[0m, \u001b[38;5;34m30\u001b[0m, \u001b[38;5;34m30\u001b[0m, \u001b[38;5;34m64\u001b[0m)     │             \u001b[38;5;34m0\u001b[0m │\n",
              "├─────────────────────────────────┼────────────────────────┼───────────────┤\n",
              "│ conv2d_2 (\u001b[38;5;33mConv2D\u001b[0m)               │ (\u001b[38;5;45mNone\u001b[0m, \u001b[38;5;34m28\u001b[0m, \u001b[38;5;34m28\u001b[0m, \u001b[38;5;34m128\u001b[0m)    │        \u001b[38;5;34m73,856\u001b[0m │\n",
              "├─────────────────────────────────┼────────────────────────┼───────────────┤\n",
              "│ max_pooling2d_2 (\u001b[38;5;33mMaxPooling2D\u001b[0m)  │ (\u001b[38;5;45mNone\u001b[0m, \u001b[38;5;34m14\u001b[0m, \u001b[38;5;34m14\u001b[0m, \u001b[38;5;34m128\u001b[0m)    │             \u001b[38;5;34m0\u001b[0m │\n",
              "├─────────────────────────────────┼────────────────────────┼───────────────┤\n",
              "│ flatten (\u001b[38;5;33mFlatten\u001b[0m)               │ (\u001b[38;5;45mNone\u001b[0m, \u001b[38;5;34m25088\u001b[0m)          │             \u001b[38;5;34m0\u001b[0m │\n",
              "├─────────────────────────────────┼────────────────────────┼───────────────┤\n",
              "│ reshape (\u001b[38;5;33mReshape\u001b[0m)               │ (\u001b[38;5;45mNone\u001b[0m, \u001b[38;5;34m1\u001b[0m, \u001b[38;5;34m25088\u001b[0m)       │             \u001b[38;5;34m0\u001b[0m │\n",
              "├─────────────────────────────────┼────────────────────────┼───────────────┤\n",
              "│ gru (\u001b[38;5;33mGRU\u001b[0m)                       │ (\u001b[38;5;45mNone\u001b[0m, \u001b[38;5;34m256\u001b[0m)            │    \u001b[38;5;34m19,465,728\u001b[0m │\n",
              "├─────────────────────────────────┼────────────────────────┼───────────────┤\n",
              "│ dense (\u001b[38;5;33mDense\u001b[0m)                   │ (\u001b[38;5;45mNone\u001b[0m, \u001b[38;5;34m128\u001b[0m)            │        \u001b[38;5;34m32,896\u001b[0m │\n",
              "├─────────────────────────────────┼────────────────────────┼───────────────┤\n",
              "│ dropout (\u001b[38;5;33mDropout\u001b[0m)               │ (\u001b[38;5;45mNone\u001b[0m, \u001b[38;5;34m128\u001b[0m)            │             \u001b[38;5;34m0\u001b[0m │\n",
              "├─────────────────────────────────┼────────────────────────┼───────────────┤\n",
              "│ dense_1 (\u001b[38;5;33mDense\u001b[0m)                 │ (\u001b[38;5;45mNone\u001b[0m, \u001b[38;5;34m115\u001b[0m)            │        \u001b[38;5;34m14,835\u001b[0m │\n",
              "└─────────────────────────────────┴────────────────────────┴───────────────┘\n"
            ],
            "text/html": [
              "<pre style=\"white-space:pre;overflow-x:auto;line-height:normal;font-family:Menlo,'DejaVu Sans Mono',consolas,'Courier New',monospace\">┏━━━━━━━━━━━━━━━━━━━━━━━━━━━━━━━━━┳━━━━━━━━━━━━━━━━━━━━━━━━┳━━━━━━━━━━━━━━━┓\n",
              "┃<span style=\"font-weight: bold\"> Layer (type)                    </span>┃<span style=\"font-weight: bold\"> Output Shape           </span>┃<span style=\"font-weight: bold\">       Param # </span>┃\n",
              "┡━━━━━━━━━━━━━━━━━━━━━━━━━━━━━━━━━╇━━━━━━━━━━━━━━━━━━━━━━━━╇━━━━━━━━━━━━━━━┩\n",
              "│ conv2d (<span style=\"color: #0087ff; text-decoration-color: #0087ff\">Conv2D</span>)                 │ (<span style=\"color: #00d7ff; text-decoration-color: #00d7ff\">None</span>, <span style=\"color: #00af00; text-decoration-color: #00af00\">126</span>, <span style=\"color: #00af00; text-decoration-color: #00af00\">126</span>, <span style=\"color: #00af00; text-decoration-color: #00af00\">32</span>)   │           <span style=\"color: #00af00; text-decoration-color: #00af00\">320</span> │\n",
              "├─────────────────────────────────┼────────────────────────┼───────────────┤\n",
              "│ max_pooling2d (<span style=\"color: #0087ff; text-decoration-color: #0087ff\">MaxPooling2D</span>)    │ (<span style=\"color: #00d7ff; text-decoration-color: #00d7ff\">None</span>, <span style=\"color: #00af00; text-decoration-color: #00af00\">63</span>, <span style=\"color: #00af00; text-decoration-color: #00af00\">63</span>, <span style=\"color: #00af00; text-decoration-color: #00af00\">32</span>)     │             <span style=\"color: #00af00; text-decoration-color: #00af00\">0</span> │\n",
              "├─────────────────────────────────┼────────────────────────┼───────────────┤\n",
              "│ conv2d_1 (<span style=\"color: #0087ff; text-decoration-color: #0087ff\">Conv2D</span>)               │ (<span style=\"color: #00d7ff; text-decoration-color: #00d7ff\">None</span>, <span style=\"color: #00af00; text-decoration-color: #00af00\">61</span>, <span style=\"color: #00af00; text-decoration-color: #00af00\">61</span>, <span style=\"color: #00af00; text-decoration-color: #00af00\">64</span>)     │        <span style=\"color: #00af00; text-decoration-color: #00af00\">18,496</span> │\n",
              "├─────────────────────────────────┼────────────────────────┼───────────────┤\n",
              "│ max_pooling2d_1 (<span style=\"color: #0087ff; text-decoration-color: #0087ff\">MaxPooling2D</span>)  │ (<span style=\"color: #00d7ff; text-decoration-color: #00d7ff\">None</span>, <span style=\"color: #00af00; text-decoration-color: #00af00\">30</span>, <span style=\"color: #00af00; text-decoration-color: #00af00\">30</span>, <span style=\"color: #00af00; text-decoration-color: #00af00\">64</span>)     │             <span style=\"color: #00af00; text-decoration-color: #00af00\">0</span> │\n",
              "├─────────────────────────────────┼────────────────────────┼───────────────┤\n",
              "│ conv2d_2 (<span style=\"color: #0087ff; text-decoration-color: #0087ff\">Conv2D</span>)               │ (<span style=\"color: #00d7ff; text-decoration-color: #00d7ff\">None</span>, <span style=\"color: #00af00; text-decoration-color: #00af00\">28</span>, <span style=\"color: #00af00; text-decoration-color: #00af00\">28</span>, <span style=\"color: #00af00; text-decoration-color: #00af00\">128</span>)    │        <span style=\"color: #00af00; text-decoration-color: #00af00\">73,856</span> │\n",
              "├─────────────────────────────────┼────────────────────────┼───────────────┤\n",
              "│ max_pooling2d_2 (<span style=\"color: #0087ff; text-decoration-color: #0087ff\">MaxPooling2D</span>)  │ (<span style=\"color: #00d7ff; text-decoration-color: #00d7ff\">None</span>, <span style=\"color: #00af00; text-decoration-color: #00af00\">14</span>, <span style=\"color: #00af00; text-decoration-color: #00af00\">14</span>, <span style=\"color: #00af00; text-decoration-color: #00af00\">128</span>)    │             <span style=\"color: #00af00; text-decoration-color: #00af00\">0</span> │\n",
              "├─────────────────────────────────┼────────────────────────┼───────────────┤\n",
              "│ flatten (<span style=\"color: #0087ff; text-decoration-color: #0087ff\">Flatten</span>)               │ (<span style=\"color: #00d7ff; text-decoration-color: #00d7ff\">None</span>, <span style=\"color: #00af00; text-decoration-color: #00af00\">25088</span>)          │             <span style=\"color: #00af00; text-decoration-color: #00af00\">0</span> │\n",
              "├─────────────────────────────────┼────────────────────────┼───────────────┤\n",
              "│ reshape (<span style=\"color: #0087ff; text-decoration-color: #0087ff\">Reshape</span>)               │ (<span style=\"color: #00d7ff; text-decoration-color: #00d7ff\">None</span>, <span style=\"color: #00af00; text-decoration-color: #00af00\">1</span>, <span style=\"color: #00af00; text-decoration-color: #00af00\">25088</span>)       │             <span style=\"color: #00af00; text-decoration-color: #00af00\">0</span> │\n",
              "├─────────────────────────────────┼────────────────────────┼───────────────┤\n",
              "│ gru (<span style=\"color: #0087ff; text-decoration-color: #0087ff\">GRU</span>)                       │ (<span style=\"color: #00d7ff; text-decoration-color: #00d7ff\">None</span>, <span style=\"color: #00af00; text-decoration-color: #00af00\">256</span>)            │    <span style=\"color: #00af00; text-decoration-color: #00af00\">19,465,728</span> │\n",
              "├─────────────────────────────────┼────────────────────────┼───────────────┤\n",
              "│ dense (<span style=\"color: #0087ff; text-decoration-color: #0087ff\">Dense</span>)                   │ (<span style=\"color: #00d7ff; text-decoration-color: #00d7ff\">None</span>, <span style=\"color: #00af00; text-decoration-color: #00af00\">128</span>)            │        <span style=\"color: #00af00; text-decoration-color: #00af00\">32,896</span> │\n",
              "├─────────────────────────────────┼────────────────────────┼───────────────┤\n",
              "│ dropout (<span style=\"color: #0087ff; text-decoration-color: #0087ff\">Dropout</span>)               │ (<span style=\"color: #00d7ff; text-decoration-color: #00d7ff\">None</span>, <span style=\"color: #00af00; text-decoration-color: #00af00\">128</span>)            │             <span style=\"color: #00af00; text-decoration-color: #00af00\">0</span> │\n",
              "├─────────────────────────────────┼────────────────────────┼───────────────┤\n",
              "│ dense_1 (<span style=\"color: #0087ff; text-decoration-color: #0087ff\">Dense</span>)                 │ (<span style=\"color: #00d7ff; text-decoration-color: #00d7ff\">None</span>, <span style=\"color: #00af00; text-decoration-color: #00af00\">115</span>)            │        <span style=\"color: #00af00; text-decoration-color: #00af00\">14,835</span> │\n",
              "└─────────────────────────────────┴────────────────────────┴───────────────┘\n",
              "</pre>\n"
            ]
          },
          "metadata": {}
        },
        {
          "output_type": "display_data",
          "data": {
            "text/plain": [
              "\u001b[1m Total params: \u001b[0m\u001b[38;5;34m19,606,131\u001b[0m (74.79 MB)\n"
            ],
            "text/html": [
              "<pre style=\"white-space:pre;overflow-x:auto;line-height:normal;font-family:Menlo,'DejaVu Sans Mono',consolas,'Courier New',monospace\"><span style=\"font-weight: bold\"> Total params: </span><span style=\"color: #00af00; text-decoration-color: #00af00\">19,606,131</span> (74.79 MB)\n",
              "</pre>\n"
            ]
          },
          "metadata": {}
        },
        {
          "output_type": "display_data",
          "data": {
            "text/plain": [
              "\u001b[1m Trainable params: \u001b[0m\u001b[38;5;34m19,606,131\u001b[0m (74.79 MB)\n"
            ],
            "text/html": [
              "<pre style=\"white-space:pre;overflow-x:auto;line-height:normal;font-family:Menlo,'DejaVu Sans Mono',consolas,'Courier New',monospace\"><span style=\"font-weight: bold\"> Trainable params: </span><span style=\"color: #00af00; text-decoration-color: #00af00\">19,606,131</span> (74.79 MB)\n",
              "</pre>\n"
            ]
          },
          "metadata": {}
        },
        {
          "output_type": "display_data",
          "data": {
            "text/plain": [
              "\u001b[1m Non-trainable params: \u001b[0m\u001b[38;5;34m0\u001b[0m (0.00 B)\n"
            ],
            "text/html": [
              "<pre style=\"white-space:pre;overflow-x:auto;line-height:normal;font-family:Menlo,'DejaVu Sans Mono',consolas,'Courier New',monospace\"><span style=\"font-weight: bold\"> Non-trainable params: </span><span style=\"color: #00af00; text-decoration-color: #00af00\">0</span> (0.00 B)\n",
              "</pre>\n"
            ]
          },
          "metadata": {}
        }
      ],
      "source": [
        "# Step 11: Define CNN-GRU Model\n",
        "from tensorflow.keras.layers import Reshape\n",
        "model_cnn_gru = Sequential([\n",
        "    Conv2D(32, (3, 3), activation='relu', input_shape=(IMG_SIZE[0], IMG_SIZE[1], 1)),\n",
        "    MaxPooling2D((2, 2)),\n",
        "    Conv2D(64, (3, 3), activation='relu'),\n",
        "    MaxPooling2D((2, 2)),\n",
        "    Conv2D(128, (3, 3), activation='relu'),\n",
        "    MaxPooling2D((2, 2)),\n",
        "    Flatten(),\n",
        "    # Reshape the output of Flatten to be 3D for GRU\n",
        "    Reshape((1, -1)),  # Reshape to (batch_size, 1, features) - consider adjusting '1' to match desired timesteps\n",
        "    GRU(256, return_sequences=False),\n",
        "    Dense(128, activation='relu'),\n",
        "    Dropout(0.5),\n",
        "    Dense(len(label_encoder.classes_), activation='softmax')\n",
        "])\n",
        "model_cnn_gru.compile(optimizer='adam', loss='sparse_categorical_crossentropy', metrics=['accuracy'])\n",
        "model_cnn_gru.summary()"
      ]
    },
    {
      "cell_type": "code",
      "execution_count": null,
      "metadata": {
        "colab": {
          "base_uri": "https://localhost:8080/",
          "height": 510
        },
        "id": "nefBTaazzQMe",
        "outputId": "a3ae02eb-946e-4fca-939e-c9dca5e420fd"
      },
      "outputs": [
        {
          "output_type": "display_data",
          "data": {
            "text/plain": [
              "\u001b[1mModel: \"sequential_1\"\u001b[0m\n"
            ],
            "text/html": [
              "<pre style=\"white-space:pre;overflow-x:auto;line-height:normal;font-family:Menlo,'DejaVu Sans Mono',consolas,'Courier New',monospace\"><span style=\"font-weight: bold\">Model: \"sequential_1\"</span>\n",
              "</pre>\n"
            ]
          },
          "metadata": {}
        },
        {
          "output_type": "display_data",
          "data": {
            "text/plain": [
              "┏━━━━━━━━━━━━━━━━━━━━━━━━━━━━━━━━━┳━━━━━━━━━━━━━━━━━━━━━━━━┳━━━━━━━━━━━━━━━┓\n",
              "┃\u001b[1m \u001b[0m\u001b[1mLayer (type)                   \u001b[0m\u001b[1m \u001b[0m┃\u001b[1m \u001b[0m\u001b[1mOutput Shape          \u001b[0m\u001b[1m \u001b[0m┃\u001b[1m \u001b[0m\u001b[1m      Param #\u001b[0m\u001b[1m \u001b[0m┃\n",
              "┡━━━━━━━━━━━━━━━━━━━━━━━━━━━━━━━━━╇━━━━━━━━━━━━━━━━━━━━━━━━╇━━━━━━━━━━━━━━━┩\n",
              "│ conv2d_3 (\u001b[38;5;33mConv2D\u001b[0m)               │ (\u001b[38;5;45mNone\u001b[0m, \u001b[38;5;34m126\u001b[0m, \u001b[38;5;34m126\u001b[0m, \u001b[38;5;34m32\u001b[0m)   │           \u001b[38;5;34m320\u001b[0m │\n",
              "├─────────────────────────────────┼────────────────────────┼───────────────┤\n",
              "│ max_pooling2d_3 (\u001b[38;5;33mMaxPooling2D\u001b[0m)  │ (\u001b[38;5;45mNone\u001b[0m, \u001b[38;5;34m63\u001b[0m, \u001b[38;5;34m63\u001b[0m, \u001b[38;5;34m32\u001b[0m)     │             \u001b[38;5;34m0\u001b[0m │\n",
              "├─────────────────────────────────┼────────────────────────┼───────────────┤\n",
              "│ conv2d_4 (\u001b[38;5;33mConv2D\u001b[0m)               │ (\u001b[38;5;45mNone\u001b[0m, \u001b[38;5;34m61\u001b[0m, \u001b[38;5;34m61\u001b[0m, \u001b[38;5;34m64\u001b[0m)     │        \u001b[38;5;34m18,496\u001b[0m │\n",
              "├─────────────────────────────────┼────────────────────────┼───────────────┤\n",
              "│ max_pooling2d_4 (\u001b[38;5;33mMaxPooling2D\u001b[0m)  │ (\u001b[38;5;45mNone\u001b[0m, \u001b[38;5;34m30\u001b[0m, \u001b[38;5;34m30\u001b[0m, \u001b[38;5;34m64\u001b[0m)     │             \u001b[38;5;34m0\u001b[0m │\n",
              "├─────────────────────────────────┼────────────────────────┼───────────────┤\n",
              "│ conv2d_5 (\u001b[38;5;33mConv2D\u001b[0m)               │ (\u001b[38;5;45mNone\u001b[0m, \u001b[38;5;34m28\u001b[0m, \u001b[38;5;34m28\u001b[0m, \u001b[38;5;34m128\u001b[0m)    │        \u001b[38;5;34m73,856\u001b[0m │\n",
              "├─────────────────────────────────┼────────────────────────┼───────────────┤\n",
              "│ max_pooling2d_5 (\u001b[38;5;33mMaxPooling2D\u001b[0m)  │ (\u001b[38;5;45mNone\u001b[0m, \u001b[38;5;34m14\u001b[0m, \u001b[38;5;34m14\u001b[0m, \u001b[38;5;34m128\u001b[0m)    │             \u001b[38;5;34m0\u001b[0m │\n",
              "├─────────────────────────────────┼────────────────────────┼───────────────┤\n",
              "│ reshape_1 (\u001b[38;5;33mReshape\u001b[0m)             │ (\u001b[38;5;45mNone\u001b[0m, \u001b[38;5;34m196\u001b[0m, \u001b[38;5;34m128\u001b[0m)       │             \u001b[38;5;34m0\u001b[0m │\n",
              "├─────────────────────────────────┼────────────────────────┼───────────────┤\n",
              "│ lstm (\u001b[38;5;33mLSTM\u001b[0m)                     │ (\u001b[38;5;45mNone\u001b[0m, \u001b[38;5;34m256\u001b[0m)            │       \u001b[38;5;34m394,240\u001b[0m │\n",
              "├─────────────────────────────────┼────────────────────────┼───────────────┤\n",
              "│ dense_2 (\u001b[38;5;33mDense\u001b[0m)                 │ (\u001b[38;5;45mNone\u001b[0m, \u001b[38;5;34m128\u001b[0m)            │        \u001b[38;5;34m32,896\u001b[0m │\n",
              "├─────────────────────────────────┼────────────────────────┼───────────────┤\n",
              "│ dropout_1 (\u001b[38;5;33mDropout\u001b[0m)             │ (\u001b[38;5;45mNone\u001b[0m, \u001b[38;5;34m128\u001b[0m)            │             \u001b[38;5;34m0\u001b[0m │\n",
              "├─────────────────────────────────┼────────────────────────┼───────────────┤\n",
              "│ dense_3 (\u001b[38;5;33mDense\u001b[0m)                 │ (\u001b[38;5;45mNone\u001b[0m, \u001b[38;5;34m115\u001b[0m)            │        \u001b[38;5;34m14,835\u001b[0m │\n",
              "└─────────────────────────────────┴────────────────────────┴───────────────┘\n"
            ],
            "text/html": [
              "<pre style=\"white-space:pre;overflow-x:auto;line-height:normal;font-family:Menlo,'DejaVu Sans Mono',consolas,'Courier New',monospace\">┏━━━━━━━━━━━━━━━━━━━━━━━━━━━━━━━━━┳━━━━━━━━━━━━━━━━━━━━━━━━┳━━━━━━━━━━━━━━━┓\n",
              "┃<span style=\"font-weight: bold\"> Layer (type)                    </span>┃<span style=\"font-weight: bold\"> Output Shape           </span>┃<span style=\"font-weight: bold\">       Param # </span>┃\n",
              "┡━━━━━━━━━━━━━━━━━━━━━━━━━━━━━━━━━╇━━━━━━━━━━━━━━━━━━━━━━━━╇━━━━━━━━━━━━━━━┩\n",
              "│ conv2d_3 (<span style=\"color: #0087ff; text-decoration-color: #0087ff\">Conv2D</span>)               │ (<span style=\"color: #00d7ff; text-decoration-color: #00d7ff\">None</span>, <span style=\"color: #00af00; text-decoration-color: #00af00\">126</span>, <span style=\"color: #00af00; text-decoration-color: #00af00\">126</span>, <span style=\"color: #00af00; text-decoration-color: #00af00\">32</span>)   │           <span style=\"color: #00af00; text-decoration-color: #00af00\">320</span> │\n",
              "├─────────────────────────────────┼────────────────────────┼───────────────┤\n",
              "│ max_pooling2d_3 (<span style=\"color: #0087ff; text-decoration-color: #0087ff\">MaxPooling2D</span>)  │ (<span style=\"color: #00d7ff; text-decoration-color: #00d7ff\">None</span>, <span style=\"color: #00af00; text-decoration-color: #00af00\">63</span>, <span style=\"color: #00af00; text-decoration-color: #00af00\">63</span>, <span style=\"color: #00af00; text-decoration-color: #00af00\">32</span>)     │             <span style=\"color: #00af00; text-decoration-color: #00af00\">0</span> │\n",
              "├─────────────────────────────────┼────────────────────────┼───────────────┤\n",
              "│ conv2d_4 (<span style=\"color: #0087ff; text-decoration-color: #0087ff\">Conv2D</span>)               │ (<span style=\"color: #00d7ff; text-decoration-color: #00d7ff\">None</span>, <span style=\"color: #00af00; text-decoration-color: #00af00\">61</span>, <span style=\"color: #00af00; text-decoration-color: #00af00\">61</span>, <span style=\"color: #00af00; text-decoration-color: #00af00\">64</span>)     │        <span style=\"color: #00af00; text-decoration-color: #00af00\">18,496</span> │\n",
              "├─────────────────────────────────┼────────────────────────┼───────────────┤\n",
              "│ max_pooling2d_4 (<span style=\"color: #0087ff; text-decoration-color: #0087ff\">MaxPooling2D</span>)  │ (<span style=\"color: #00d7ff; text-decoration-color: #00d7ff\">None</span>, <span style=\"color: #00af00; text-decoration-color: #00af00\">30</span>, <span style=\"color: #00af00; text-decoration-color: #00af00\">30</span>, <span style=\"color: #00af00; text-decoration-color: #00af00\">64</span>)     │             <span style=\"color: #00af00; text-decoration-color: #00af00\">0</span> │\n",
              "├─────────────────────────────────┼────────────────────────┼───────────────┤\n",
              "│ conv2d_5 (<span style=\"color: #0087ff; text-decoration-color: #0087ff\">Conv2D</span>)               │ (<span style=\"color: #00d7ff; text-decoration-color: #00d7ff\">None</span>, <span style=\"color: #00af00; text-decoration-color: #00af00\">28</span>, <span style=\"color: #00af00; text-decoration-color: #00af00\">28</span>, <span style=\"color: #00af00; text-decoration-color: #00af00\">128</span>)    │        <span style=\"color: #00af00; text-decoration-color: #00af00\">73,856</span> │\n",
              "├─────────────────────────────────┼────────────────────────┼───────────────┤\n",
              "│ max_pooling2d_5 (<span style=\"color: #0087ff; text-decoration-color: #0087ff\">MaxPooling2D</span>)  │ (<span style=\"color: #00d7ff; text-decoration-color: #00d7ff\">None</span>, <span style=\"color: #00af00; text-decoration-color: #00af00\">14</span>, <span style=\"color: #00af00; text-decoration-color: #00af00\">14</span>, <span style=\"color: #00af00; text-decoration-color: #00af00\">128</span>)    │             <span style=\"color: #00af00; text-decoration-color: #00af00\">0</span> │\n",
              "├─────────────────────────────────┼────────────────────────┼───────────────┤\n",
              "│ reshape_1 (<span style=\"color: #0087ff; text-decoration-color: #0087ff\">Reshape</span>)             │ (<span style=\"color: #00d7ff; text-decoration-color: #00d7ff\">None</span>, <span style=\"color: #00af00; text-decoration-color: #00af00\">196</span>, <span style=\"color: #00af00; text-decoration-color: #00af00\">128</span>)       │             <span style=\"color: #00af00; text-decoration-color: #00af00\">0</span> │\n",
              "├─────────────────────────────────┼────────────────────────┼───────────────┤\n",
              "│ lstm (<span style=\"color: #0087ff; text-decoration-color: #0087ff\">LSTM</span>)                     │ (<span style=\"color: #00d7ff; text-decoration-color: #00d7ff\">None</span>, <span style=\"color: #00af00; text-decoration-color: #00af00\">256</span>)            │       <span style=\"color: #00af00; text-decoration-color: #00af00\">394,240</span> │\n",
              "├─────────────────────────────────┼────────────────────────┼───────────────┤\n",
              "│ dense_2 (<span style=\"color: #0087ff; text-decoration-color: #0087ff\">Dense</span>)                 │ (<span style=\"color: #00d7ff; text-decoration-color: #00d7ff\">None</span>, <span style=\"color: #00af00; text-decoration-color: #00af00\">128</span>)            │        <span style=\"color: #00af00; text-decoration-color: #00af00\">32,896</span> │\n",
              "├─────────────────────────────────┼────────────────────────┼───────────────┤\n",
              "│ dropout_1 (<span style=\"color: #0087ff; text-decoration-color: #0087ff\">Dropout</span>)             │ (<span style=\"color: #00d7ff; text-decoration-color: #00d7ff\">None</span>, <span style=\"color: #00af00; text-decoration-color: #00af00\">128</span>)            │             <span style=\"color: #00af00; text-decoration-color: #00af00\">0</span> │\n",
              "├─────────────────────────────────┼────────────────────────┼───────────────┤\n",
              "│ dense_3 (<span style=\"color: #0087ff; text-decoration-color: #0087ff\">Dense</span>)                 │ (<span style=\"color: #00d7ff; text-decoration-color: #00d7ff\">None</span>, <span style=\"color: #00af00; text-decoration-color: #00af00\">115</span>)            │        <span style=\"color: #00af00; text-decoration-color: #00af00\">14,835</span> │\n",
              "└─────────────────────────────────┴────────────────────────┴───────────────┘\n",
              "</pre>\n"
            ]
          },
          "metadata": {}
        },
        {
          "output_type": "display_data",
          "data": {
            "text/plain": [
              "\u001b[1m Total params: \u001b[0m\u001b[38;5;34m534,643\u001b[0m (2.04 MB)\n"
            ],
            "text/html": [
              "<pre style=\"white-space:pre;overflow-x:auto;line-height:normal;font-family:Menlo,'DejaVu Sans Mono',consolas,'Courier New',monospace\"><span style=\"font-weight: bold\"> Total params: </span><span style=\"color: #00af00; text-decoration-color: #00af00\">534,643</span> (2.04 MB)\n",
              "</pre>\n"
            ]
          },
          "metadata": {}
        },
        {
          "output_type": "display_data",
          "data": {
            "text/plain": [
              "\u001b[1m Trainable params: \u001b[0m\u001b[38;5;34m534,643\u001b[0m (2.04 MB)\n"
            ],
            "text/html": [
              "<pre style=\"white-space:pre;overflow-x:auto;line-height:normal;font-family:Menlo,'DejaVu Sans Mono',consolas,'Courier New',monospace\"><span style=\"font-weight: bold\"> Trainable params: </span><span style=\"color: #00af00; text-decoration-color: #00af00\">534,643</span> (2.04 MB)\n",
              "</pre>\n"
            ]
          },
          "metadata": {}
        },
        {
          "output_type": "display_data",
          "data": {
            "text/plain": [
              "\u001b[1m Non-trainable params: \u001b[0m\u001b[38;5;34m0\u001b[0m (0.00 B)\n"
            ],
            "text/html": [
              "<pre style=\"white-space:pre;overflow-x:auto;line-height:normal;font-family:Menlo,'DejaVu Sans Mono',consolas,'Courier New',monospace\"><span style=\"font-weight: bold\"> Non-trainable params: </span><span style=\"color: #00af00; text-decoration-color: #00af00\">0</span> (0.00 B)\n",
              "</pre>\n"
            ]
          },
          "metadata": {}
        }
      ],
      "source": [
        "# Step 12: Define CNN-LSTM Model\n",
        "model_cnn_lstm = Sequential([\n",
        "    Conv2D(32, (3, 3), activation='relu', input_shape=(IMG_SIZE[0], IMG_SIZE[1], 1)),\n",
        "    MaxPooling2D((2, 2)),\n",
        "    Conv2D(64, (3, 3), activation='relu'),\n",
        "    MaxPooling2D((2, 2)),\n",
        "    Conv2D(128, (3, 3), activation='relu'),\n",
        "    MaxPooling2D((2, 2)),\n",
        "    # Reshape the output before the LSTM layer\n",
        "    # to have the shape (samples, timesteps, features)\n",
        "    Reshape((-1, 128)),  # Assuming 128 features after the convolutional layers, adjust if needed\n",
        "    LSTM(256, return_sequences=False),\n",
        "    Dense(128, activation='relu'),\n",
        "    Dropout(0.5),\n",
        "    Dense(len(label_encoder.classes_), activation='softmax')\n",
        "])\n",
        "model_cnn_lstm.compile(optimizer='adam', loss='sparse_categorical_crossentropy', metrics=['accuracy'])\n",
        "model_cnn_lstm.summary()"
      ]
    },
    {
      "cell_type": "code",
      "execution_count": null,
      "metadata": {
        "id": "Rzw-okdHzSLB",
        "colab": {
          "base_uri": "https://localhost:8080/",
          "height": 176
        },
        "outputId": "c93a2553-8c11-4d71-caa6-5bcc5bd1ca2c"
      },
      "outputs": [
        {
          "output_type": "error",
          "ename": "NameError",
          "evalue": "name 'EarlyStopping' is not defined",
          "traceback": [
            "\u001b[0;31m---------------------------------------------------------------------------\u001b[0m",
            "\u001b[0;31mNameError\u001b[0m                                 Traceback (most recent call last)",
            "\u001b[0;32m<ipython-input-1-a1cceeae6c6a>\u001b[0m in \u001b[0;36m<cell line: 0>\u001b[0;34m()\u001b[0m\n\u001b[1;32m      1\u001b[0m \u001b[0;31m# Step 13: Define Callbacks\u001b[0m\u001b[0;34m\u001b[0m\u001b[0;34m\u001b[0m\u001b[0m\n\u001b[0;32m----> 2\u001b[0;31m \u001b[0mearly_stopping\u001b[0m \u001b[0;34m=\u001b[0m \u001b[0mEarlyStopping\u001b[0m\u001b[0;34m(\u001b[0m\u001b[0mmonitor\u001b[0m\u001b[0;34m=\u001b[0m\u001b[0;34m'val_loss'\u001b[0m\u001b[0;34m,\u001b[0m \u001b[0mpatience\u001b[0m\u001b[0;34m=\u001b[0m\u001b[0;36m5\u001b[0m\u001b[0;34m,\u001b[0m \u001b[0mrestore_best_weights\u001b[0m\u001b[0;34m=\u001b[0m\u001b[0;32mTrue\u001b[0m\u001b[0;34m)\u001b[0m\u001b[0;34m\u001b[0m\u001b[0;34m\u001b[0m\u001b[0m\n\u001b[0m\u001b[1;32m      3\u001b[0m \u001b[0mreduce_lr\u001b[0m \u001b[0;34m=\u001b[0m \u001b[0mReduceLROnPlateau\u001b[0m\u001b[0;34m(\u001b[0m\u001b[0mmonitor\u001b[0m\u001b[0;34m=\u001b[0m\u001b[0;34m'val_loss'\u001b[0m\u001b[0;34m,\u001b[0m \u001b[0mfactor\u001b[0m\u001b[0;34m=\u001b[0m\u001b[0;36m0.2\u001b[0m\u001b[0;34m,\u001b[0m \u001b[0mpatience\u001b[0m\u001b[0;34m=\u001b[0m\u001b[0;36m3\u001b[0m\u001b[0;34m,\u001b[0m \u001b[0mmin_lr\u001b[0m\u001b[0;34m=\u001b[0m\u001b[0;36m0.00001\u001b[0m\u001b[0;34m)\u001b[0m\u001b[0;34m\u001b[0m\u001b[0;34m\u001b[0m\u001b[0m\n",
            "\u001b[0;31mNameError\u001b[0m: name 'EarlyStopping' is not defined"
          ]
        }
      ],
      "source": [
        "\n",
        "# Step 13: Define Callbacks\n",
        "early_stopping = EarlyStopping(monitor='val_loss', patience=5, restore_best_weights=True)\n",
        "reduce_lr = ReduceLROnPlateau(monitor='val_loss', factor=0.2, patience=3, min_lr=0.00001)\n"
      ]
    },
    {
      "cell_type": "code",
      "execution_count": null,
      "metadata": {
        "colab": {
          "base_uri": "https://localhost:8080/"
        },
        "id": "POyZ7lmhzWPe",
        "outputId": "fec2bc6f-7788-430a-aca6-d3d2540bdfa0"
      },
      "outputs": [
        {
          "output_type": "stream",
          "name": "stdout",
          "text": [
            "Epoch 1/70\n"
          ]
        },
        {
          "output_type": "stream",
          "name": "stderr",
          "text": [
            "/usr/local/lib/python3.11/dist-packages/keras/src/trainers/data_adapters/py_dataset_adapter.py:121: UserWarning: Your `PyDataset` class should call `super().__init__(**kwargs)` in its constructor. `**kwargs` can include `workers`, `use_multiprocessing`, `max_queue_size`. Do not pass these arguments to `fit()`, as they will be ignored.\n",
            "  self._warn_if_super_not_called()\n"
          ]
        },
        {
          "output_type": "stream",
          "name": "stdout",
          "text": [
            "\u001b[1m219/219\u001b[0m \u001b[32m━━━━━━━━━━━━━━━━━━━━\u001b[0m\u001b[37m\u001b[0m \u001b[1m19s\u001b[0m 65ms/step - accuracy: 0.0197 - loss: 4.7221 - val_accuracy: 0.1681 - val_loss: 3.6453 - learning_rate: 0.0010\n",
            "Epoch 2/70\n",
            "\u001b[1m219/219\u001b[0m \u001b[32m━━━━━━━━━━━━━━━━━━━━\u001b[0m\u001b[37m\u001b[0m \u001b[1m13s\u001b[0m 61ms/step - accuracy: 0.1168 - loss: 3.8690 - val_accuracy: 0.5404 - val_loss: 2.0748 - learning_rate: 0.0010\n",
            "Epoch 3/70\n",
            "\u001b[1m219/219\u001b[0m \u001b[32m━━━━━━━━━━━━━━━━━━━━\u001b[0m\u001b[37m\u001b[0m \u001b[1m13s\u001b[0m 60ms/step - accuracy: 0.2300 - loss: 3.0476 - val_accuracy: 0.6391 - val_loss: 1.5240 - learning_rate: 0.0010\n",
            "Epoch 4/70\n",
            "\u001b[1m219/219\u001b[0m \u001b[32m━━━━━━━━━━━━━━━━━━━━\u001b[0m\u001b[37m\u001b[0m \u001b[1m13s\u001b[0m 61ms/step - accuracy: 0.3471 - loss: 2.5181 - val_accuracy: 0.7091 - val_loss: 1.1971 - learning_rate: 0.0010\n",
            "Epoch 5/70\n",
            "\u001b[1m219/219\u001b[0m \u001b[32m━━━━━━━━━━━━━━━━━━━━\u001b[0m\u001b[37m\u001b[0m \u001b[1m14s\u001b[0m 63ms/step - accuracy: 0.4009 - loss: 2.2477 - val_accuracy: 0.7572 - val_loss: 0.9894 - learning_rate: 0.0010\n",
            "Epoch 6/70\n",
            "\u001b[1m219/219\u001b[0m \u001b[32m━━━━━━━━━━━━━━━━━━━━\u001b[0m\u001b[37m\u001b[0m \u001b[1m14s\u001b[0m 63ms/step - accuracy: 0.4603 - loss: 2.0102 - val_accuracy: 0.7532 - val_loss: 0.9305 - learning_rate: 0.0010\n",
            "Epoch 7/70\n",
            "\u001b[1m219/219\u001b[0m \u001b[32m━━━━━━━━━━━━━━━━━━━━\u001b[0m\u001b[37m\u001b[0m \u001b[1m13s\u001b[0m 60ms/step - accuracy: 0.4937 - loss: 1.8195 - val_accuracy: 0.7885 - val_loss: 0.7836 - learning_rate: 0.0010\n",
            "Epoch 8/70\n",
            "\u001b[1m219/219\u001b[0m \u001b[32m━━━━━━━━━━━━━━━━━━━━\u001b[0m\u001b[37m\u001b[0m \u001b[1m13s\u001b[0m 60ms/step - accuracy: 0.5309 - loss: 1.7100 - val_accuracy: 0.8132 - val_loss: 0.7200 - learning_rate: 0.0010\n",
            "Epoch 9/70\n",
            "\u001b[1m219/219\u001b[0m \u001b[32m━━━━━━━━━━━━━━━━━━━━\u001b[0m\u001b[37m\u001b[0m \u001b[1m13s\u001b[0m 61ms/step - accuracy: 0.5598 - loss: 1.5693 - val_accuracy: 0.8259 - val_loss: 0.6477 - learning_rate: 0.0010\n",
            "Epoch 10/70\n",
            "\u001b[1m219/219\u001b[0m \u001b[32m━━━━━━━━━━━━━━━━━━━━\u001b[0m\u001b[37m\u001b[0m \u001b[1m13s\u001b[0m 60ms/step - accuracy: 0.5958 - loss: 1.4216 - val_accuracy: 0.8339 - val_loss: 0.6117 - learning_rate: 0.0010\n",
            "Epoch 11/70\n",
            "\u001b[1m219/219\u001b[0m \u001b[32m━━━━━━━━━━━━━━━━━━━━\u001b[0m\u001b[37m\u001b[0m \u001b[1m13s\u001b[0m 61ms/step - accuracy: 0.6273 - loss: 1.3745 - val_accuracy: 0.8319 - val_loss: 0.6080 - learning_rate: 0.0010\n",
            "Epoch 12/70\n",
            "\u001b[1m219/219\u001b[0m \u001b[32m━━━━━━━━━━━━━━━━━━━━\u001b[0m\u001b[37m\u001b[0m \u001b[1m13s\u001b[0m 61ms/step - accuracy: 0.6434 - loss: 1.2698 - val_accuracy: 0.8559 - val_loss: 0.5412 - learning_rate: 0.0010\n",
            "Epoch 13/70\n",
            "\u001b[1m219/219\u001b[0m \u001b[32m━━━━━━━━━━━━━━━━━━━━\u001b[0m\u001b[37m\u001b[0m \u001b[1m13s\u001b[0m 60ms/step - accuracy: 0.6431 - loss: 1.2311 - val_accuracy: 0.8572 - val_loss: 0.5226 - learning_rate: 0.0010\n",
            "Epoch 14/70\n",
            "\u001b[1m219/219\u001b[0m \u001b[32m━━━━━━━━━━━━━━━━━━━━\u001b[0m\u001b[37m\u001b[0m \u001b[1m13s\u001b[0m 61ms/step - accuracy: 0.6641 - loss: 1.1639 - val_accuracy: 0.8559 - val_loss: 0.5128 - learning_rate: 0.0010\n",
            "Epoch 15/70\n",
            "\u001b[1m219/219\u001b[0m \u001b[32m━━━━━━━━━━━━━━━━━━━━\u001b[0m\u001b[37m\u001b[0m \u001b[1m13s\u001b[0m 60ms/step - accuracy: 0.6737 - loss: 1.1131 - val_accuracy: 0.8566 - val_loss: 0.4725 - learning_rate: 0.0010\n",
            "Epoch 16/70\n",
            "\u001b[1m219/219\u001b[0m \u001b[32m━━━━━━━━━━━━━━━━━━━━\u001b[0m\u001b[37m\u001b[0m \u001b[1m13s\u001b[0m 61ms/step - accuracy: 0.7009 - loss: 1.0319 - val_accuracy: 0.8679 - val_loss: 0.4611 - learning_rate: 0.0010\n",
            "Epoch 17/70\n",
            "\u001b[1m219/219\u001b[0m \u001b[32m━━━━━━━━━━━━━━━━━━━━\u001b[0m\u001b[37m\u001b[0m \u001b[1m13s\u001b[0m 61ms/step - accuracy: 0.6866 - loss: 1.0708 - val_accuracy: 0.8652 - val_loss: 0.4547 - learning_rate: 0.0010\n",
            "Epoch 18/70\n",
            "\u001b[1m219/219\u001b[0m \u001b[32m━━━━━━━━━━━━━━━━━━━━\u001b[0m\u001b[37m\u001b[0m \u001b[1m13s\u001b[0m 61ms/step - accuracy: 0.7064 - loss: 1.0155 - val_accuracy: 0.8619 - val_loss: 0.4470 - learning_rate: 0.0010\n",
            "Epoch 19/70\n",
            "\u001b[1m219/219\u001b[0m \u001b[32m━━━━━━━━━━━━━━━━━━━━\u001b[0m\u001b[37m\u001b[0m \u001b[1m21s\u001b[0m 62ms/step - accuracy: 0.7165 - loss: 0.9506 - val_accuracy: 0.8759 - val_loss: 0.4296 - learning_rate: 0.0010\n",
            "Epoch 20/70\n",
            "\u001b[1m219/219\u001b[0m \u001b[32m━━━━━━━━━━━━━━━━━━━━\u001b[0m\u001b[37m\u001b[0m \u001b[1m13s\u001b[0m 61ms/step - accuracy: 0.7280 - loss: 0.9206 - val_accuracy: 0.8879 - val_loss: 0.4043 - learning_rate: 0.0010\n",
            "Epoch 21/70\n",
            "\u001b[1m219/219\u001b[0m \u001b[32m━━━━━━━━━━━━━━━━━━━━\u001b[0m\u001b[37m\u001b[0m \u001b[1m13s\u001b[0m 61ms/step - accuracy: 0.7454 - loss: 0.8623 - val_accuracy: 0.8712 - val_loss: 0.4333 - learning_rate: 0.0010\n",
            "Epoch 22/70\n",
            "\u001b[1m219/219\u001b[0m \u001b[32m━━━━━━━━━━━━━━━━━━━━\u001b[0m\u001b[37m\u001b[0m \u001b[1m13s\u001b[0m 60ms/step - accuracy: 0.7373 - loss: 0.8648 - val_accuracy: 0.8799 - val_loss: 0.4052 - learning_rate: 0.0010\n",
            "Epoch 23/70\n",
            "\u001b[1m219/219\u001b[0m \u001b[32m━━━━━━━━━━━━━━━━━━━━\u001b[0m\u001b[37m\u001b[0m \u001b[1m14s\u001b[0m 62ms/step - accuracy: 0.7602 - loss: 0.8390 - val_accuracy: 0.8973 - val_loss: 0.3755 - learning_rate: 0.0010\n",
            "Epoch 24/70\n",
            "\u001b[1m219/219\u001b[0m \u001b[32m━━━━━━━━━━━━━━━━━━━━\u001b[0m\u001b[37m\u001b[0m \u001b[1m13s\u001b[0m 60ms/step - accuracy: 0.7547 - loss: 0.8312 - val_accuracy: 0.8866 - val_loss: 0.3808 - learning_rate: 0.0010\n",
            "Epoch 25/70\n",
            "\u001b[1m219/219\u001b[0m \u001b[32m━━━━━━━━━━━━━━━━━━━━\u001b[0m\u001b[37m\u001b[0m \u001b[1m13s\u001b[0m 60ms/step - accuracy: 0.7623 - loss: 0.7867 - val_accuracy: 0.8893 - val_loss: 0.3804 - learning_rate: 0.0010\n",
            "Epoch 26/70\n",
            "\u001b[1m219/219\u001b[0m \u001b[32m━━━━━━━━━━━━━━━━━━━━\u001b[0m\u001b[37m\u001b[0m \u001b[1m13s\u001b[0m 60ms/step - accuracy: 0.7760 - loss: 0.7932 - val_accuracy: 0.8906 - val_loss: 0.3601 - learning_rate: 0.0010\n",
            "Epoch 27/70\n",
            "\u001b[1m219/219\u001b[0m \u001b[32m━━━━━━━━━━━━━━━━━━━━\u001b[0m\u001b[37m\u001b[0m \u001b[1m14s\u001b[0m 62ms/step - accuracy: 0.7629 - loss: 0.7771 - val_accuracy: 0.8953 - val_loss: 0.3486 - learning_rate: 0.0010\n",
            "Epoch 28/70\n",
            "\u001b[1m219/219\u001b[0m \u001b[32m━━━━━━━━━━━━━━━━━━━━\u001b[0m\u001b[37m\u001b[0m \u001b[1m14s\u001b[0m 62ms/step - accuracy: 0.7674 - loss: 0.7837 - val_accuracy: 0.8966 - val_loss: 0.3616 - learning_rate: 0.0010\n",
            "Epoch 29/70\n",
            "\u001b[1m219/219\u001b[0m \u001b[32m━━━━━━━━━━━━━━━━━━━━\u001b[0m\u001b[37m\u001b[0m \u001b[1m13s\u001b[0m 60ms/step - accuracy: 0.7869 - loss: 0.7202 - val_accuracy: 0.8953 - val_loss: 0.3498 - learning_rate: 0.0010\n",
            "Epoch 30/70\n",
            "\u001b[1m219/219\u001b[0m \u001b[32m━━━━━━━━━━━━━━━━━━━━\u001b[0m\u001b[37m\u001b[0m \u001b[1m14s\u001b[0m 62ms/step - accuracy: 0.7815 - loss: 0.7124 - val_accuracy: 0.9013 - val_loss: 0.3475 - learning_rate: 0.0010\n",
            "Epoch 31/70\n",
            "\u001b[1m219/219\u001b[0m \u001b[32m━━━━━━━━━━━━━━━━━━━━\u001b[0m\u001b[37m\u001b[0m \u001b[1m13s\u001b[0m 61ms/step - accuracy: 0.7956 - loss: 0.6818 - val_accuracy: 0.8959 - val_loss: 0.3395 - learning_rate: 0.0010\n",
            "Epoch 32/70\n",
            "\u001b[1m219/219\u001b[0m \u001b[32m━━━━━━━━━━━━━━━━━━━━\u001b[0m\u001b[37m\u001b[0m \u001b[1m14s\u001b[0m 62ms/step - accuracy: 0.7872 - loss: 0.6981 - val_accuracy: 0.8959 - val_loss: 0.3490 - learning_rate: 0.0010\n",
            "Epoch 33/70\n",
            "\u001b[1m219/219\u001b[0m \u001b[32m━━━━━━━━━━━━━━━━━━━━\u001b[0m\u001b[37m\u001b[0m \u001b[1m13s\u001b[0m 61ms/step - accuracy: 0.7998 - loss: 0.6677 - val_accuracy: 0.8979 - val_loss: 0.3369 - learning_rate: 0.0010\n",
            "Epoch 34/70\n",
            "\u001b[1m219/219\u001b[0m \u001b[32m━━━━━━━━━━━━━━━━━━━━\u001b[0m\u001b[37m\u001b[0m \u001b[1m21s\u001b[0m 61ms/step - accuracy: 0.8134 - loss: 0.6206 - val_accuracy: 0.8979 - val_loss: 0.3538 - learning_rate: 0.0010\n",
            "Epoch 35/70\n",
            "\u001b[1m219/219\u001b[0m \u001b[32m━━━━━━━━━━━━━━━━━━━━\u001b[0m\u001b[37m\u001b[0m \u001b[1m13s\u001b[0m 61ms/step - accuracy: 0.8002 - loss: 0.6592 - val_accuracy: 0.8966 - val_loss: 0.3274 - learning_rate: 0.0010\n",
            "Epoch 36/70\n",
            "\u001b[1m219/219\u001b[0m \u001b[32m━━━━━━━━━━━━━━━━━━━━\u001b[0m\u001b[37m\u001b[0m \u001b[1m14s\u001b[0m 62ms/step - accuracy: 0.8018 - loss: 0.6542 - val_accuracy: 0.8926 - val_loss: 0.3547 - learning_rate: 0.0010\n",
            "Epoch 37/70\n",
            "\u001b[1m219/219\u001b[0m \u001b[32m━━━━━━━━━━━━━━━━━━━━\u001b[0m\u001b[37m\u001b[0m \u001b[1m13s\u001b[0m 60ms/step - accuracy: 0.8151 - loss: 0.6132 - val_accuracy: 0.8953 - val_loss: 0.3406 - learning_rate: 0.0010\n",
            "Epoch 38/70\n",
            "\u001b[1m219/219\u001b[0m \u001b[32m━━━━━━━━━━━━━━━━━━━━\u001b[0m\u001b[37m\u001b[0m \u001b[1m14s\u001b[0m 63ms/step - accuracy: 0.8123 - loss: 0.6171 - val_accuracy: 0.9006 - val_loss: 0.3230 - learning_rate: 0.0010\n",
            "Epoch 39/70\n",
            "\u001b[1m219/219\u001b[0m \u001b[32m━━━━━━━━━━━━━━━━━━━━\u001b[0m\u001b[37m\u001b[0m \u001b[1m13s\u001b[0m 60ms/step - accuracy: 0.8136 - loss: 0.6182 - val_accuracy: 0.8966 - val_loss: 0.3590 - learning_rate: 0.0010\n",
            "Epoch 40/70\n",
            "\u001b[1m219/219\u001b[0m \u001b[32m━━━━━━━━━━━━━━━━━━━━\u001b[0m\u001b[37m\u001b[0m \u001b[1m13s\u001b[0m 61ms/step - accuracy: 0.8290 - loss: 0.5799 - val_accuracy: 0.9006 - val_loss: 0.3265 - learning_rate: 0.0010\n",
            "Epoch 41/70\n",
            "\u001b[1m219/219\u001b[0m \u001b[32m━━━━━━━━━━━━━━━━━━━━\u001b[0m\u001b[37m\u001b[0m \u001b[1m13s\u001b[0m 61ms/step - accuracy: 0.8308 - loss: 0.5437 - val_accuracy: 0.8939 - val_loss: 0.3496 - learning_rate: 0.0010\n",
            "Epoch 42/70\n",
            "\u001b[1m219/219\u001b[0m \u001b[32m━━━━━━━━━━━━━━━━━━━━\u001b[0m\u001b[37m\u001b[0m \u001b[1m14s\u001b[0m 62ms/step - accuracy: 0.8385 - loss: 0.5295 - val_accuracy: 0.8993 - val_loss: 0.3195 - learning_rate: 2.0000e-04\n",
            "Epoch 43/70\n",
            "\u001b[1m219/219\u001b[0m \u001b[32m━━━━━━━━━━━━━━━━━━━━\u001b[0m\u001b[37m\u001b[0m \u001b[1m20s\u001b[0m 61ms/step - accuracy: 0.8483 - loss: 0.4924 - val_accuracy: 0.9059 - val_loss: 0.3079 - learning_rate: 2.0000e-04\n",
            "Epoch 44/70\n",
            "\u001b[1m219/219\u001b[0m \u001b[32m━━━━━━━━━━━━━━━━━━━━\u001b[0m\u001b[37m\u001b[0m \u001b[1m14s\u001b[0m 64ms/step - accuracy: 0.8537 - loss: 0.4668 - val_accuracy: 0.9046 - val_loss: 0.3056 - learning_rate: 2.0000e-04\n",
            "Epoch 45/70\n",
            "\u001b[1m219/219\u001b[0m \u001b[32m━━━━━━━━━━━━━━━━━━━━\u001b[0m\u001b[37m\u001b[0m \u001b[1m14s\u001b[0m 62ms/step - accuracy: 0.8596 - loss: 0.4676 - val_accuracy: 0.9046 - val_loss: 0.3127 - learning_rate: 2.0000e-04\n",
            "Epoch 46/70\n",
            "\u001b[1m219/219\u001b[0m \u001b[32m━━━━━━━━━━━━━━━━━━━━\u001b[0m\u001b[37m\u001b[0m \u001b[1m14s\u001b[0m 63ms/step - accuracy: 0.8559 - loss: 0.4704 - val_accuracy: 0.9073 - val_loss: 0.2992 - learning_rate: 2.0000e-04\n",
            "Epoch 47/70\n",
            "\u001b[1m219/219\u001b[0m \u001b[32m━━━━━━━━━━━━━━━━━━━━\u001b[0m\u001b[37m\u001b[0m \u001b[1m14s\u001b[0m 63ms/step - accuracy: 0.8668 - loss: 0.4475 - val_accuracy: 0.9106 - val_loss: 0.2987 - learning_rate: 2.0000e-04\n",
            "Epoch 48/70\n",
            "\u001b[1m219/219\u001b[0m \u001b[32m━━━━━━━━━━━━━━━━━━━━\u001b[0m\u001b[37m\u001b[0m \u001b[1m14s\u001b[0m 63ms/step - accuracy: 0.8579 - loss: 0.4606 - val_accuracy: 0.9053 - val_loss: 0.2992 - learning_rate: 2.0000e-04\n",
            "Epoch 49/70\n",
            "\u001b[1m219/219\u001b[0m \u001b[32m━━━━━━━━━━━━━━━━━━━━\u001b[0m\u001b[37m\u001b[0m \u001b[1m14s\u001b[0m 62ms/step - accuracy: 0.8605 - loss: 0.4507 - val_accuracy: 0.9073 - val_loss: 0.2989 - learning_rate: 2.0000e-04\n",
            "Epoch 50/70\n",
            "\u001b[1m219/219\u001b[0m \u001b[32m━━━━━━━━━━━━━━━━━━━━\u001b[0m\u001b[37m\u001b[0m \u001b[1m14s\u001b[0m 62ms/step - accuracy: 0.8695 - loss: 0.4334 - val_accuracy: 0.9086 - val_loss: 0.2977 - learning_rate: 2.0000e-04\n",
            "Epoch 51/70\n",
            "\u001b[1m219/219\u001b[0m \u001b[32m━━━━━━━━━━━━━━━━━━━━\u001b[0m\u001b[37m\u001b[0m \u001b[1m14s\u001b[0m 62ms/step - accuracy: 0.8742 - loss: 0.4119 - val_accuracy: 0.9119 - val_loss: 0.2945 - learning_rate: 2.0000e-04\n",
            "Epoch 52/70\n",
            "\u001b[1m219/219\u001b[0m \u001b[32m━━━━━━━━━━━━━━━━━━━━\u001b[0m\u001b[37m\u001b[0m \u001b[1m14s\u001b[0m 62ms/step - accuracy: 0.8731 - loss: 0.4116 - val_accuracy: 0.9093 - val_loss: 0.2985 - learning_rate: 2.0000e-04\n",
            "Epoch 53/70\n",
            "\u001b[1m219/219\u001b[0m \u001b[32m━━━━━━━━━━━━━━━━━━━━\u001b[0m\u001b[37m\u001b[0m \u001b[1m14s\u001b[0m 63ms/step - accuracy: 0.8709 - loss: 0.4269 - val_accuracy: 0.9093 - val_loss: 0.2959 - learning_rate: 2.0000e-04\n",
            "Epoch 54/70\n",
            "\u001b[1m219/219\u001b[0m \u001b[32m━━━━━━━━━━━━━━━━━━━━\u001b[0m\u001b[37m\u001b[0m \u001b[1m14s\u001b[0m 62ms/step - accuracy: 0.8708 - loss: 0.4147 - val_accuracy: 0.9066 - val_loss: 0.2969 - learning_rate: 2.0000e-04\n",
            "Epoch 55/70\n",
            "\u001b[1m219/219\u001b[0m \u001b[32m━━━━━━━━━━━━━━━━━━━━\u001b[0m\u001b[37m\u001b[0m \u001b[1m13s\u001b[0m 61ms/step - accuracy: 0.8741 - loss: 0.4188 - val_accuracy: 0.9113 - val_loss: 0.2946 - learning_rate: 4.0000e-05\n",
            "Epoch 56/70\n",
            "\u001b[1m219/219\u001b[0m \u001b[32m━━━━━━━━━━━━━━━━━━━━\u001b[0m\u001b[37m\u001b[0m \u001b[1m13s\u001b[0m 61ms/step - accuracy: 0.8742 - loss: 0.4272 - val_accuracy: 0.9113 - val_loss: 0.2954 - learning_rate: 4.0000e-05\n",
            "Epoch 1/50\n",
            "\u001b[1m219/219\u001b[0m \u001b[32m━━━━━━━━━━━━━━━━━━━━\u001b[0m\u001b[37m\u001b[0m \u001b[1m16s\u001b[0m 64ms/step - accuracy: 0.0164 - loss: 4.7356 - val_accuracy: 0.0207 - val_loss: 4.5752 - learning_rate: 0.0010\n",
            "Epoch 2/50\n",
            "\u001b[1m219/219\u001b[0m \u001b[32m━━━━━━━━━━━━━━━━━━━━\u001b[0m\u001b[37m\u001b[0m \u001b[1m13s\u001b[0m 59ms/step - accuracy: 0.0310 - loss: 4.5745 - val_accuracy: 0.0660 - val_loss: 4.0458 - learning_rate: 0.0010\n",
            "Epoch 3/50\n",
            "\u001b[1m219/219\u001b[0m \u001b[32m━━━━━━━━━━━━━━━━━━━━\u001b[0m\u001b[37m\u001b[0m \u001b[1m13s\u001b[0m 59ms/step - accuracy: 0.0450 - loss: 4.3093 - val_accuracy: 0.0941 - val_loss: 3.7180 - learning_rate: 0.0010\n",
            "Epoch 4/50\n",
            "\u001b[1m219/219\u001b[0m \u001b[32m━━━━━━━━━━━━━━━━━━━━\u001b[0m\u001b[37m\u001b[0m \u001b[1m13s\u001b[0m 59ms/step - accuracy: 0.0636 - loss: 4.1320 - val_accuracy: 0.1548 - val_loss: 3.3963 - learning_rate: 0.0010\n",
            "Epoch 5/50\n",
            "\u001b[1m219/219\u001b[0m \u001b[32m━━━━━━━━━━━━━━━━━━━━\u001b[0m\u001b[37m\u001b[0m \u001b[1m13s\u001b[0m 60ms/step - accuracy: 0.0777 - loss: 3.9175 - val_accuracy: 0.1701 - val_loss: 3.2868 - learning_rate: 0.0010\n",
            "Epoch 6/50\n",
            "\u001b[1m219/219\u001b[0m \u001b[32m━━━━━━━━━━━━━━━━━━━━\u001b[0m\u001b[37m\u001b[0m \u001b[1m13s\u001b[0m 60ms/step - accuracy: 0.0952 - loss: 3.7516 - val_accuracy: 0.2035 - val_loss: 3.0044 - learning_rate: 0.0010\n",
            "Epoch 7/50\n",
            "\u001b[1m219/219\u001b[0m \u001b[32m━━━━━━━━━━━━━━━━━━━━\u001b[0m\u001b[37m\u001b[0m \u001b[1m13s\u001b[0m 60ms/step - accuracy: 0.1170 - loss: 3.5868 - val_accuracy: 0.2435 - val_loss: 2.8004 - learning_rate: 0.0010\n",
            "Epoch 8/50\n",
            "\u001b[1m219/219\u001b[0m \u001b[32m━━━━━━━━━━━━━━━━━━━━\u001b[0m\u001b[37m\u001b[0m \u001b[1m13s\u001b[0m 60ms/step - accuracy: 0.1304 - loss: 3.4286 - val_accuracy: 0.2889 - val_loss: 2.5511 - learning_rate: 0.0010\n",
            "Epoch 9/50\n",
            "\u001b[1m219/219\u001b[0m \u001b[32m━━━━━━━━━━━━━━━━━━━━\u001b[0m\u001b[37m\u001b[0m \u001b[1m13s\u001b[0m 59ms/step - accuracy: 0.1741 - loss: 3.1700 - val_accuracy: 0.3122 - val_loss: 2.4237 - learning_rate: 0.0010\n",
            "Epoch 10/50\n",
            "\u001b[1m219/219\u001b[0m \u001b[32m━━━━━━━━━━━━━━━━━━━━\u001b[0m\u001b[37m\u001b[0m \u001b[1m13s\u001b[0m 61ms/step - accuracy: 0.1961 - loss: 3.0402 - val_accuracy: 0.3496 - val_loss: 2.2921 - learning_rate: 0.0010\n",
            "Epoch 11/50\n",
            "\u001b[1m219/219\u001b[0m \u001b[32m━━━━━━━━━━━━━━━━━━━━\u001b[0m\u001b[37m\u001b[0m \u001b[1m13s\u001b[0m 59ms/step - accuracy: 0.2163 - loss: 2.9343 - val_accuracy: 0.4209 - val_loss: 1.9871 - learning_rate: 0.0010\n",
            "Epoch 12/50\n",
            "\u001b[1m219/219\u001b[0m \u001b[32m━━━━━━━━━━━━━━━━━━━━\u001b[0m\u001b[37m\u001b[0m \u001b[1m21s\u001b[0m 60ms/step - accuracy: 0.2540 - loss: 2.7473 - val_accuracy: 0.4430 - val_loss: 1.8854 - learning_rate: 0.0010\n",
            "Epoch 13/50\n",
            "\u001b[1m219/219\u001b[0m \u001b[32m━━━━━━━━━━━━━━━━━━━━\u001b[0m\u001b[37m\u001b[0m \u001b[1m13s\u001b[0m 57ms/step - accuracy: 0.2832 - loss: 2.5550 - val_accuracy: 0.4830 - val_loss: 1.7803 - learning_rate: 0.0010\n",
            "Epoch 14/50\n",
            "\u001b[1m219/219\u001b[0m \u001b[32m━━━━━━━━━━━━━━━━━━━━\u001b[0m\u001b[37m\u001b[0m \u001b[1m21s\u001b[0m 61ms/step - accuracy: 0.3111 - loss: 2.4822 - val_accuracy: 0.4997 - val_loss: 1.6361 - learning_rate: 0.0010\n",
            "Epoch 15/50\n",
            "\u001b[1m219/219\u001b[0m \u001b[32m━━━━━━━━━━━━━━━━━━━━\u001b[0m\u001b[37m\u001b[0m \u001b[1m13s\u001b[0m 59ms/step - accuracy: 0.3373 - loss: 2.3168 - val_accuracy: 0.5444 - val_loss: 1.5196 - learning_rate: 0.0010\n",
            "Epoch 16/50\n",
            "\u001b[1m219/219\u001b[0m \u001b[32m━━━━━━━━━━━━━━━━━━━━\u001b[0m\u001b[37m\u001b[0m \u001b[1m13s\u001b[0m 60ms/step - accuracy: 0.3687 - loss: 2.2562 - val_accuracy: 0.5437 - val_loss: 1.4650 - learning_rate: 0.0010\n",
            "Epoch 17/50\n",
            "\u001b[1m219/219\u001b[0m \u001b[32m━━━━━━━━━━━━━━━━━━━━\u001b[0m\u001b[37m\u001b[0m \u001b[1m13s\u001b[0m 59ms/step - accuracy: 0.4055 - loss: 2.1180 - val_accuracy: 0.5997 - val_loss: 1.3496 - learning_rate: 0.0010\n",
            "Epoch 18/50\n",
            "\u001b[1m219/219\u001b[0m \u001b[32m━━━━━━━━━━━━━━━━━━━━\u001b[0m\u001b[37m\u001b[0m \u001b[1m13s\u001b[0m 59ms/step - accuracy: 0.4149 - loss: 1.9979 - val_accuracy: 0.5911 - val_loss: 1.2967 - learning_rate: 0.0010\n",
            "Epoch 19/50\n",
            "\u001b[1m219/219\u001b[0m \u001b[32m━━━━━━━━━━━━━━━━━━━━\u001b[0m\u001b[37m\u001b[0m \u001b[1m13s\u001b[0m 61ms/step - accuracy: 0.4408 - loss: 1.9012 - val_accuracy: 0.6177 - val_loss: 1.1788 - learning_rate: 0.0010\n",
            "Epoch 20/50\n",
            "\u001b[1m219/219\u001b[0m \u001b[32m━━━━━━━━━━━━━━━━━━━━\u001b[0m\u001b[37m\u001b[0m \u001b[1m13s\u001b[0m 59ms/step - accuracy: 0.4773 - loss: 1.7910 - val_accuracy: 0.6571 - val_loss: 1.1370 - learning_rate: 0.0010\n",
            "Epoch 21/50\n",
            "\u001b[1m219/219\u001b[0m \u001b[32m━━━━━━━━━━━━━━━━━━━━\u001b[0m\u001b[37m\u001b[0m \u001b[1m13s\u001b[0m 58ms/step - accuracy: 0.4972 - loss: 1.6904 - val_accuracy: 0.6691 - val_loss: 1.0539 - learning_rate: 0.0010\n",
            "Epoch 22/50\n",
            "\u001b[1m219/219\u001b[0m \u001b[32m━━━━━━━━━━━━━━━━━━━━\u001b[0m\u001b[37m\u001b[0m \u001b[1m13s\u001b[0m 59ms/step - accuracy: 0.5094 - loss: 1.6187 - val_accuracy: 0.6918 - val_loss: 0.9991 - learning_rate: 0.0010\n",
            "Epoch 23/50\n",
            "\u001b[1m219/219\u001b[0m \u001b[32m━━━━━━━━━━━━━━━━━━━━\u001b[0m\u001b[37m\u001b[0m \u001b[1m13s\u001b[0m 59ms/step - accuracy: 0.5357 - loss: 1.5575 - val_accuracy: 0.7058 - val_loss: 0.9291 - learning_rate: 0.0010\n",
            "Epoch 24/50\n",
            "\u001b[1m219/219\u001b[0m \u001b[32m━━━━━━━━━━━━━━━━━━━━\u001b[0m\u001b[37m\u001b[0m \u001b[1m13s\u001b[0m 59ms/step - accuracy: 0.5645 - loss: 1.4446 - val_accuracy: 0.6971 - val_loss: 0.9483 - learning_rate: 0.0010\n",
            "Epoch 25/50\n",
            "\u001b[1m219/219\u001b[0m \u001b[32m━━━━━━━━━━━━━━━━━━━━\u001b[0m\u001b[37m\u001b[0m \u001b[1m13s\u001b[0m 59ms/step - accuracy: 0.5594 - loss: 1.4652 - val_accuracy: 0.7111 - val_loss: 0.9104 - learning_rate: 0.0010\n",
            "Epoch 26/50\n",
            "\u001b[1m219/219\u001b[0m \u001b[32m━━━━━━━━━━━━━━━━━━━━\u001b[0m\u001b[37m\u001b[0m \u001b[1m13s\u001b[0m 57ms/step - accuracy: 0.5907 - loss: 1.3441 - val_accuracy: 0.7405 - val_loss: 0.8060 - learning_rate: 0.0010\n",
            "Epoch 27/50\n",
            "\u001b[1m219/219\u001b[0m \u001b[32m━━━━━━━━━━━━━━━━━━━━\u001b[0m\u001b[37m\u001b[0m \u001b[1m21s\u001b[0m 60ms/step - accuracy: 0.6132 - loss: 1.2671 - val_accuracy: 0.7478 - val_loss: 0.7790 - learning_rate: 0.0010\n",
            "Epoch 28/50\n",
            "\u001b[1m219/219\u001b[0m \u001b[32m━━━━━━━━━━━━━━━━━━━━\u001b[0m\u001b[37m\u001b[0m \u001b[1m13s\u001b[0m 58ms/step - accuracy: 0.6204 - loss: 1.2440 - val_accuracy: 0.7572 - val_loss: 0.7832 - learning_rate: 0.0010\n",
            "Epoch 29/50\n",
            "\u001b[1m219/219\u001b[0m \u001b[32m━━━━━━━━━━━━━━━━━━━━\u001b[0m\u001b[37m\u001b[0m \u001b[1m13s\u001b[0m 60ms/step - accuracy: 0.6457 - loss: 1.1625 - val_accuracy: 0.7572 - val_loss: 0.7222 - learning_rate: 0.0010\n",
            "Epoch 30/50\n",
            "\u001b[1m219/219\u001b[0m \u001b[32m━━━━━━━━━━━━━━━━━━━━\u001b[0m\u001b[37m\u001b[0m \u001b[1m13s\u001b[0m 58ms/step - accuracy: 0.6481 - loss: 1.1245 - val_accuracy: 0.7792 - val_loss: 0.6924 - learning_rate: 0.0010\n",
            "Epoch 31/50\n",
            "\u001b[1m219/219\u001b[0m \u001b[32m━━━━━━━━━━━━━━━━━━━━\u001b[0m\u001b[37m\u001b[0m \u001b[1m13s\u001b[0m 58ms/step - accuracy: 0.6632 - loss: 1.0861 - val_accuracy: 0.7872 - val_loss: 0.6912 - learning_rate: 0.0010\n",
            "Epoch 32/50\n",
            "\u001b[1m219/219\u001b[0m \u001b[32m━━━━━━━━━━━━━━━━━━━━\u001b[0m\u001b[37m\u001b[0m \u001b[1m13s\u001b[0m 60ms/step - accuracy: 0.6706 - loss: 1.0748 - val_accuracy: 0.7892 - val_loss: 0.6925 - learning_rate: 0.0010\n",
            "Epoch 33/50\n",
            "\u001b[1m219/219\u001b[0m \u001b[32m━━━━━━━━━━━━━━━━━━━━\u001b[0m\u001b[37m\u001b[0m \u001b[1m13s\u001b[0m 59ms/step - accuracy: 0.6824 - loss: 1.0316 - val_accuracy: 0.8005 - val_loss: 0.6302 - learning_rate: 0.0010\n",
            "Epoch 34/50\n",
            "\u001b[1m219/219\u001b[0m \u001b[32m━━━━━━━━━━━━━━━━━━━━\u001b[0m\u001b[37m\u001b[0m \u001b[1m13s\u001b[0m 59ms/step - accuracy: 0.7002 - loss: 0.9946 - val_accuracy: 0.8065 - val_loss: 0.6299 - learning_rate: 0.0010\n",
            "Epoch 35/50\n",
            "\u001b[1m219/219\u001b[0m \u001b[32m━━━━━━━━━━━━━━━━━━━━\u001b[0m\u001b[37m\u001b[0m \u001b[1m13s\u001b[0m 59ms/step - accuracy: 0.7267 - loss: 0.9251 - val_accuracy: 0.8279 - val_loss: 0.5860 - learning_rate: 0.0010\n",
            "Epoch 36/50\n",
            "\u001b[1m219/219\u001b[0m \u001b[32m━━━━━━━━━━━━━━━━━━━━\u001b[0m\u001b[37m\u001b[0m \u001b[1m20s\u001b[0m 58ms/step - accuracy: 0.7162 - loss: 0.9275 - val_accuracy: 0.8132 - val_loss: 0.5997 - learning_rate: 0.0010\n",
            "Epoch 37/50\n",
            "\u001b[1m219/219\u001b[0m \u001b[32m━━━━━━━━━━━━━━━━━━━━\u001b[0m\u001b[37m\u001b[0m \u001b[1m13s\u001b[0m 57ms/step - accuracy: 0.7272 - loss: 0.8947 - val_accuracy: 0.8312 - val_loss: 0.5692 - learning_rate: 0.0010\n",
            "Epoch 38/50\n",
            "\u001b[1m219/219\u001b[0m \u001b[32m━━━━━━━━━━━━━━━━━━━━\u001b[0m\u001b[37m\u001b[0m \u001b[1m13s\u001b[0m 60ms/step - accuracy: 0.7504 - loss: 0.8386 - val_accuracy: 0.8386 - val_loss: 0.5412 - learning_rate: 0.0010\n",
            "Epoch 39/50\n",
            "\u001b[1m219/219\u001b[0m \u001b[32m━━━━━━━━━━━━━━━━━━━━\u001b[0m\u001b[37m\u001b[0m \u001b[1m13s\u001b[0m 58ms/step - accuracy: 0.7459 - loss: 0.8506 - val_accuracy: 0.8539 - val_loss: 0.5047 - learning_rate: 0.0010\n",
            "Epoch 40/50\n",
            "\u001b[1m219/219\u001b[0m \u001b[32m━━━━━━━━━━━━━━━━━━━━\u001b[0m\u001b[37m\u001b[0m \u001b[1m21s\u001b[0m 60ms/step - accuracy: 0.7607 - loss: 0.7914 - val_accuracy: 0.8499 - val_loss: 0.5030 - learning_rate: 0.0010\n",
            "Epoch 41/50\n",
            "\u001b[1m219/219\u001b[0m \u001b[32m━━━━━━━━━━━━━━━━━━━━\u001b[0m\u001b[37m\u001b[0m \u001b[1m13s\u001b[0m 58ms/step - accuracy: 0.7590 - loss: 0.8144 - val_accuracy: 0.8459 - val_loss: 0.5150 - learning_rate: 0.0010\n",
            "Epoch 42/50\n",
            "\u001b[1m219/219\u001b[0m \u001b[32m━━━━━━━━━━━━━━━━━━━━\u001b[0m\u001b[37m\u001b[0m \u001b[1m13s\u001b[0m 59ms/step - accuracy: 0.7782 - loss: 0.7324 - val_accuracy: 0.8646 - val_loss: 0.5124 - learning_rate: 0.0010\n",
            "Epoch 43/50\n",
            "\u001b[1m219/219\u001b[0m \u001b[32m━━━━━━━━━━━━━━━━━━━━\u001b[0m\u001b[37m\u001b[0m \u001b[1m13s\u001b[0m 61ms/step - accuracy: 0.7874 - loss: 0.7065 - val_accuracy: 0.8472 - val_loss: 0.5079 - learning_rate: 0.0010\n",
            "Epoch 44/50\n",
            "\u001b[1m219/219\u001b[0m \u001b[32m━━━━━━━━━━━━━━━━━━━━\u001b[0m\u001b[37m\u001b[0m \u001b[1m13s\u001b[0m 60ms/step - accuracy: 0.7993 - loss: 0.6638 - val_accuracy: 0.8746 - val_loss: 0.4455 - learning_rate: 2.0000e-04\n",
            "Epoch 45/50\n",
            "\u001b[1m219/219\u001b[0m \u001b[32m━━━━━━━━━━━━━━━━━━━━\u001b[0m\u001b[37m\u001b[0m \u001b[1m13s\u001b[0m 59ms/step - accuracy: 0.8202 - loss: 0.6115 - val_accuracy: 0.8819 - val_loss: 0.4340 - learning_rate: 2.0000e-04\n",
            "Epoch 46/50\n",
            "\u001b[1m219/219\u001b[0m \u001b[32m━━━━━━━━━━━━━━━━━━━━\u001b[0m\u001b[37m\u001b[0m \u001b[1m13s\u001b[0m 59ms/step - accuracy: 0.8249 - loss: 0.5817 - val_accuracy: 0.8839 - val_loss: 0.4154 - learning_rate: 2.0000e-04\n",
            "Epoch 47/50\n",
            "\u001b[1m219/219\u001b[0m \u001b[32m━━━━━━━━━━━━━━━━━━━━\u001b[0m\u001b[37m\u001b[0m \u001b[1m13s\u001b[0m 61ms/step - accuracy: 0.8384 - loss: 0.5481 - val_accuracy: 0.8826 - val_loss: 0.4280 - learning_rate: 2.0000e-04\n",
            "Epoch 48/50\n",
            "\u001b[1m219/219\u001b[0m \u001b[32m━━━━━━━━━━━━━━━━━━━━\u001b[0m\u001b[37m\u001b[0m \u001b[1m13s\u001b[0m 59ms/step - accuracy: 0.8427 - loss: 0.5492 - val_accuracy: 0.8859 - val_loss: 0.4126 - learning_rate: 2.0000e-04\n",
            "Epoch 49/50\n",
            "\u001b[1m219/219\u001b[0m \u001b[32m━━━━━━━━━━━━━━━━━━━━\u001b[0m\u001b[37m\u001b[0m \u001b[1m13s\u001b[0m 58ms/step - accuracy: 0.8351 - loss: 0.5480 - val_accuracy: 0.8859 - val_loss: 0.4173 - learning_rate: 2.0000e-04\n",
            "Epoch 50/50\n",
            "\u001b[1m219/219\u001b[0m \u001b[32m━━━━━━━━━━━━━━━━━━━━\u001b[0m\u001b[37m\u001b[0m \u001b[1m13s\u001b[0m 61ms/step - accuracy: 0.8441 - loss: 0.5253 - val_accuracy: 0.8886 - val_loss: 0.4225 - learning_rate: 2.0000e-04\n"
          ]
        }
      ],
      "source": [
        "# Step 14: Train Models\n",
        "history_cnn_gru = model_cnn_gru.fit(\n",
        "    datagen.flow(X_train, y_train, batch_size=32),\n",
        "    validation_data=(X_val, y_val),\n",
        "    epochs=70,\n",
        "    callbacks=[early_stopping, reduce_lr],\n",
        "    verbose=1\n",
        ")\n",
        "\n",
        "history_cnn_lstm = model_cnn_lstm.fit(\n",
        "    datagen.flow(X_train, y_train, batch_size=32),\n",
        "    validation_data=(X_val, y_val),\n",
        "    epochs=50,\n",
        "    callbacks=[early_stopping, reduce_lr],\n",
        "    verbose=1\n",
        ")\n"
      ]
    },
    {
      "cell_type": "code",
      "execution_count": null,
      "metadata": {
        "colab": {
          "base_uri": "https://localhost:8080/"
        },
        "id": "uMJTGbTv0Z9k",
        "outputId": "604a75e7-dff4-4b32-ead7-c1ce12629407"
      },
      "outputs": [
        {
          "name": "stdout",
          "output_type": "stream",
          "text": [
            "CNN-GRU Test Accuracy: 0.9299424290657043\n",
            "CNN-LSTM Test Accuracy: 0.8857965469360352\n"
          ]
        }
      ],
      "source": [
        "\n",
        "# Step 15: Evaluate Models\n",
        "test_loss_cnn_gru, test_acc_cnn_gru = model_cnn_gru.evaluate(X_test, y_test, verbose=0)\n",
        "print(\"CNN-GRU Test Accuracy:\", test_acc_cnn_gru)\n",
        "test_loss_cnn_lstm, test_acc_cnn_lstm = model_cnn_lstm.evaluate(X_test, y_test, verbose=0)\n",
        "print(\"CNN-LSTM Test Accuracy:\", test_acc_cnn_lstm)\n"
      ]
    },
    {
      "cell_type": "code",
      "execution_count": null,
      "metadata": {
        "colab": {
          "base_uri": "https://localhost:8080/",
          "height": 515
        },
        "id": "BVJeEKsq2eTe",
        "outputId": "fffaec3f-3542-4fce-91d1-effdb7e86a7d"
      },
      "outputs": [
        {
          "output_type": "stream",
          "name": "stdout",
          "text": [
            "CNN-GRU Prediction: na ண (Confidence: 98.42%)\n"
          ]
        },
        {
          "output_type": "stream",
          "name": "stderr",
          "text": [
            "/usr/local/lib/python3.11/dist-packages/IPython/core/pylabtools.py:151: UserWarning: Glyph 2979 (\\N{TAMIL LETTER NNA}) missing from font(s) DejaVu Sans.\n",
            "  fig.canvas.print_figure(bytes_io, **kw)\n",
            "/usr/local/lib/python3.11/dist-packages/IPython/core/pylabtools.py:151: UserWarning: Matplotlib currently does not support Tamil natively.\n",
            "  fig.canvas.print_figure(bytes_io, **kw)\n"
          ]
        },
        {
          "output_type": "display_data",
          "data": {
            "text/plain": [
              "<Figure size 640x480 with 1 Axes>"
            ],
            "image/png": "[encoded data removed]"
          },
          "metadata": {}
        }
      ],
      "source": [
        "# Step 17: Predict on a Single Image with Confidence Scores\n",
        "def preprocess_input_image(image_path):\n",
        "    image = cv2.imread(image_path, cv2.IMREAD_GRAYSCALE)\n",
        "    if image is None:\n",
        "        print(f\"Error: Could not load image at {image_path}\")\n",
        "        return None\n",
        "    image = cv2.medianBlur(image, ksize=5)  # Apply median filtering\n",
        "    image = cv2.resize(image, IMG_SIZE)\n",
        "    image = image / 255.0\n",
        "    image = image.reshape(1, IMG_SIZE[0], IMG_SIZE[1], 1)\n",
        "    return image\n",
        "input_image_path = \"/content/drive/My Drive/tamil_kai.png\"\n",
        "\n",
        "input_image = preprocess_input_image(input_image_path)\n",
        "if input_image is not None:\n",
        "    pred_gru = model_cnn_gru.predict(input_image, verbose=0)\n",
        "    pred_lstm = model_cnn_lstm.predict(input_image, verbose=0)\n",
        "    pred_label_gru = np.argmax(pred_gru, axis=1)[0]\n",
        "    pred_label_lstm = np.argmax(pred_lstm, axis=1)[0]\n",
        "    confidence_gru = np.max(pred_gru) * 100\n",
        "    confidence_lstm = np.max(pred_lstm) * 100\n",
        "    phonetic_gru = label_encoder.inverse_transform([pred_label_gru])[0]\n",
        "    phonetic_lstm = label_encoder.inverse_transform([pred_label_lstm])[0]\n",
        "    # Instead of directly accessing the list, use the key to get the value.\n",
        "    tamil_char_gru = tamil_unicode.get(str([k for k, v in tamil_to_phonetic.items() if v == phonetic_gru][0]), \"Unknown\")\n",
        "    tamil_char_lstm = tamil_unicode.get(str([k for k, v in tamil_to_phonetic.items() if v == phonetic_lstm][0]), \"Unknown\")\n",
        "    print(f\"CNN-GRU Prediction: {phonetic_gru} {tamil_char_gru} (Confidence: {confidence_gru:.2f}%)\")\n",
        "  #  print(f\"CNN-LSTM Prediction: {phonetic_lstm} {tamil_char_lstm} (Confidence: {confidence_lstm:.2f}%)\")\n",
        "    plt.imshow(input_image.reshape(IMG_SIZE[0], IMG_SIZE[1]), cmap='gray')\n",
        "    # Explicitly setting the font family for the title\n",
        "    # Ensure the font is loaded using fm.FontProperties with both family and fname\n",
        "#    font = fm.FontProperties(family='Latha', fname=font_path)\n",
        "    # Check if the font is loaded successfully\n",
        "\n",
        "\n",
        "    plt.title(f\"GRU: {tamil_char_gru} ({phonetic_gru}, {confidence_gru:.2f}%), LSTM: {tamil_char_lstm} ({phonetic_lstm}, {confidence_lstm:.2f}%)\"\n",
        "            )\n",
        "    plt.axis('off')\n",
        "plt.show()"
      ]
    }
  ],
  "metadata": {
    "accelerator": "GPU",
    "colab": {
      "gpuType": "T4",
      "provenance": [],
      "authorship_tag": "ABX9TyP6My/61bdqauW+ZQgxP1DB",
      "include_colab_link": true
    },
    "kernelspec": {
      "display_name": "Python 3",
      "name": "python3"
    },
    "language_info": {
      "name": "python"
    }
  },
  "nbformat": 4,
  "nbformat_minor": 0
}